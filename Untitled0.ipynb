{
  "nbformat": 4,
  "nbformat_minor": 0,
  "metadata": {
    "colab": {
      "provenance": [],
      "collapsed_sections": []
    },
    "kernelspec": {
      "name": "python3",
      "display_name": "Python 3"
    },
    "language_info": {
      "name": "python"
    }
  },
  "cells": [
    {
      "cell_type": "code",
      "execution_count": 6,
      "metadata": {
        "colab": {
          "base_uri": "https://localhost:8080/"
        },
        "id": "x1aUjE24_QgK",
        "outputId": "d339ec31-36c1-4a9f-be40-e0add7eac8d2"
      },
      "outputs": [
        {
          "output_type": "stream",
          "name": "stdout",
          "text": [
            "Looking in indexes: https://pypi.org/simple, https://us-python.pkg.dev/colab-wheels/public/simple/\n",
            "Requirement already satisfied: scikit-learn in /usr/local/lib/python3.7/dist-packages (1.0.2)\n",
            "Requirement already satisfied: numpy>=1.14.6 in /usr/local/lib/python3.7/dist-packages (from scikit-learn) (1.21.6)\n",
            "Requirement already satisfied: threadpoolctl>=2.0.0 in /usr/local/lib/python3.7/dist-packages (from scikit-learn) (3.1.0)\n",
            "Requirement already satisfied: scipy>=1.1.0 in /usr/local/lib/python3.7/dist-packages (from scikit-learn) (1.7.3)\n",
            "Requirement already satisfied: joblib>=0.11 in /usr/local/lib/python3.7/dist-packages (from scikit-learn) (1.2.0)\n"
          ]
        }
      ],
      "source": [
        "pip install -U scikit-learn"
      ]
    },
    {
      "cell_type": "markdown",
      "source": [
        "# New Section"
      ],
      "metadata": {
        "id": "ElnCI6k_Rh2L"
      }
    },
    {
      "cell_type": "code",
      "source": [
        "import numpy as np # linear algebra\n",
        "import pandas as pd # data processing, CSV file I/O (e.g. pd.read_csv)\n",
        "import os\n",
        "import scipy\n",
        "\n",
        "\n",
        "import warnings\n",
        "warnings.filterwarnings(\"ignore\")"
      ],
      "metadata": {
        "id": "xSorz9Mx_4ej"
      },
      "execution_count": 7,
      "outputs": []
    },
    {
      "cell_type": "code",
      "source": [
        "from textblob import TextBlob\n",
        "from sklearn import metrics\n",
        "from mlxtend.plotting import plot_confusion_matrix"
      ],
      "metadata": {
        "id": "LV-IfcjwANj7"
      },
      "execution_count": 8,
      "outputs": []
    },
    {
      "cell_type": "code",
      "source": [
        "data = pd.read_csv('Full Comments.csv',error_bad_lines=False)"
      ],
      "metadata": {
        "id": "nif38vrpAZde"
      },
      "execution_count": 9,
      "outputs": []
    },
    {
      "cell_type": "code",
      "source": [
        "data.head(5)"
      ],
      "metadata": {
        "colab": {
          "base_uri": "https://localhost:8080/",
          "height": 206
        },
        "id": "Sx33NgdICGsr",
        "outputId": "5c6bdc31-640b-461c-d22c-a524bd39fe4c"
      },
      "execution_count": 10,
      "outputs": [
        {
          "output_type": "execute_result",
          "data": {
            "text/plain": [
              "            Username                                            Comment\n",
              "0  krishna chaudhari  i tried today its come out soo delicious  than...\n",
              "1  Lakshmi Thiruvadi  your recipe is amazing!! thank you for the det...\n",
              "2        Gayatri Rao  Hi Sanjyot!! I made this pulao yesterday ! It ...\n",
              "3        Bucket List  This was the first recipe I'd tried from YFL a...\n",
              "4  aishwarya bhosale  Hey Chef, I have followed this same recipe of ..."
            ],
            "text/html": [
              "\n",
              "  <div id=\"df-67f4907a-6ed3-40b6-9ecc-f4bbe36d12d3\">\n",
              "    <div class=\"colab-df-container\">\n",
              "      <div>\n",
              "<style scoped>\n",
              "    .dataframe tbody tr th:only-of-type {\n",
              "        vertical-align: middle;\n",
              "    }\n",
              "\n",
              "    .dataframe tbody tr th {\n",
              "        vertical-align: top;\n",
              "    }\n",
              "\n",
              "    .dataframe thead th {\n",
              "        text-align: right;\n",
              "    }\n",
              "</style>\n",
              "<table border=\"1\" class=\"dataframe\">\n",
              "  <thead>\n",
              "    <tr style=\"text-align: right;\">\n",
              "      <th></th>\n",
              "      <th>Username</th>\n",
              "      <th>Comment</th>\n",
              "    </tr>\n",
              "  </thead>\n",
              "  <tbody>\n",
              "    <tr>\n",
              "      <th>0</th>\n",
              "      <td>krishna chaudhari</td>\n",
              "      <td>i tried today its come out soo delicious  than...</td>\n",
              "    </tr>\n",
              "    <tr>\n",
              "      <th>1</th>\n",
              "      <td>Lakshmi Thiruvadi</td>\n",
              "      <td>your recipe is amazing!! thank you for the det...</td>\n",
              "    </tr>\n",
              "    <tr>\n",
              "      <th>2</th>\n",
              "      <td>Gayatri Rao</td>\n",
              "      <td>Hi Sanjyot!! I made this pulao yesterday ! It ...</td>\n",
              "    </tr>\n",
              "    <tr>\n",
              "      <th>3</th>\n",
              "      <td>Bucket List</td>\n",
              "      <td>This was the first recipe I'd tried from YFL a...</td>\n",
              "    </tr>\n",
              "    <tr>\n",
              "      <th>4</th>\n",
              "      <td>aishwarya bhosale</td>\n",
              "      <td>Hey Chef, I have followed this same recipe of ...</td>\n",
              "    </tr>\n",
              "  </tbody>\n",
              "</table>\n",
              "</div>\n",
              "      <button class=\"colab-df-convert\" onclick=\"convertToInteractive('df-67f4907a-6ed3-40b6-9ecc-f4bbe36d12d3')\"\n",
              "              title=\"Convert this dataframe to an interactive table.\"\n",
              "              style=\"display:none;\">\n",
              "        \n",
              "  <svg xmlns=\"http://www.w3.org/2000/svg\" height=\"24px\"viewBox=\"0 0 24 24\"\n",
              "       width=\"24px\">\n",
              "    <path d=\"M0 0h24v24H0V0z\" fill=\"none\"/>\n",
              "    <path d=\"M18.56 5.44l.94 2.06.94-2.06 2.06-.94-2.06-.94-.94-2.06-.94 2.06-2.06.94zm-11 1L8.5 8.5l.94-2.06 2.06-.94-2.06-.94L8.5 2.5l-.94 2.06-2.06.94zm10 10l.94 2.06.94-2.06 2.06-.94-2.06-.94-.94-2.06-.94 2.06-2.06.94z\"/><path d=\"M17.41 7.96l-1.37-1.37c-.4-.4-.92-.59-1.43-.59-.52 0-1.04.2-1.43.59L10.3 9.45l-7.72 7.72c-.78.78-.78 2.05 0 2.83L4 21.41c.39.39.9.59 1.41.59.51 0 1.02-.2 1.41-.59l7.78-7.78 2.81-2.81c.8-.78.8-2.07 0-2.86zM5.41 20L4 18.59l7.72-7.72 1.47 1.35L5.41 20z\"/>\n",
              "  </svg>\n",
              "      </button>\n",
              "      \n",
              "  <style>\n",
              "    .colab-df-container {\n",
              "      display:flex;\n",
              "      flex-wrap:wrap;\n",
              "      gap: 12px;\n",
              "    }\n",
              "\n",
              "    .colab-df-convert {\n",
              "      background-color: #E8F0FE;\n",
              "      border: none;\n",
              "      border-radius: 50%;\n",
              "      cursor: pointer;\n",
              "      display: none;\n",
              "      fill: #1967D2;\n",
              "      height: 32px;\n",
              "      padding: 0 0 0 0;\n",
              "      width: 32px;\n",
              "    }\n",
              "\n",
              "    .colab-df-convert:hover {\n",
              "      background-color: #E2EBFA;\n",
              "      box-shadow: 0px 1px 2px rgba(60, 64, 67, 0.3), 0px 1px 3px 1px rgba(60, 64, 67, 0.15);\n",
              "      fill: #174EA6;\n",
              "    }\n",
              "\n",
              "    [theme=dark] .colab-df-convert {\n",
              "      background-color: #3B4455;\n",
              "      fill: #D2E3FC;\n",
              "    }\n",
              "\n",
              "    [theme=dark] .colab-df-convert:hover {\n",
              "      background-color: #434B5C;\n",
              "      box-shadow: 0px 1px 3px 1px rgba(0, 0, 0, 0.15);\n",
              "      filter: drop-shadow(0px 1px 2px rgba(0, 0, 0, 0.3));\n",
              "      fill: #FFFFFF;\n",
              "    }\n",
              "  </style>\n",
              "\n",
              "      <script>\n",
              "        const buttonEl =\n",
              "          document.querySelector('#df-67f4907a-6ed3-40b6-9ecc-f4bbe36d12d3 button.colab-df-convert');\n",
              "        buttonEl.style.display =\n",
              "          google.colab.kernel.accessAllowed ? 'block' : 'none';\n",
              "\n",
              "        async function convertToInteractive(key) {\n",
              "          const element = document.querySelector('#df-67f4907a-6ed3-40b6-9ecc-f4bbe36d12d3');\n",
              "          const dataTable =\n",
              "            await google.colab.kernel.invokeFunction('convertToInteractive',\n",
              "                                                     [key], {});\n",
              "          if (!dataTable) return;\n",
              "\n",
              "          const docLinkHtml = 'Like what you see? Visit the ' +\n",
              "            '<a target=\"_blank\" href=https://colab.research.google.com/notebooks/data_table.ipynb>data table notebook</a>'\n",
              "            + ' to learn more about interactive tables.';\n",
              "          element.innerHTML = '';\n",
              "          dataTable['output_type'] = 'display_data';\n",
              "          await google.colab.output.renderOutput(dataTable, element);\n",
              "          const docLink = document.createElement('div');\n",
              "          docLink.innerHTML = docLinkHtml;\n",
              "          element.appendChild(docLink);\n",
              "        }\n",
              "      </script>\n",
              "    </div>\n",
              "  </div>\n",
              "  "
            ]
          },
          "metadata": {},
          "execution_count": 10
        }
      ]
    },
    {
      "cell_type": "code",
      "source": [
        "data.shape"
      ],
      "metadata": {
        "id": "fu8Y52v6CbF9",
        "outputId": "49e50666-fe2d-44c6-d4c8-3324a175d3b2",
        "colab": {
          "base_uri": "https://localhost:8080/"
        }
      },
      "execution_count": 11,
      "outputs": [
        {
          "output_type": "execute_result",
          "data": {
            "text/plain": [
              "(556, 2)"
            ]
          },
          "metadata": {},
          "execution_count": 11
        }
      ]
    },
    {
      "cell_type": "code",
      "source": [
        "data['polarity'] = data['Comment'].apply(lambda x: TextBlob(x).sentiment.polarity)"
      ],
      "metadata": {
        "id": "-HkBedyBSfjQ"
      },
      "execution_count": 12,
      "outputs": []
    },
    {
      "cell_type": "code",
      "source": [
        "data.head()"
      ],
      "metadata": {
        "colab": {
          "base_uri": "https://localhost:8080/",
          "height": 206
        },
        "id": "BYvhB0kfTDo0",
        "outputId": "da36e895-37b2-4c4e-db4c-386cd153ad35"
      },
      "execution_count": 13,
      "outputs": [
        {
          "output_type": "execute_result",
          "data": {
            "text/plain": [
              "            Username                                            Comment  \\\n",
              "0  krishna chaudhari  i tried today its come out soo delicious  than...   \n",
              "1  Lakshmi Thiruvadi  your recipe is amazing!! thank you for the det...   \n",
              "2        Gayatri Rao  Hi Sanjyot!! I made this pulao yesterday ! It ...   \n",
              "3        Bucket List  This was the first recipe I'd tried from YFL a...   \n",
              "4  aishwarya bhosale  Hey Chef, I have followed this same recipe of ...   \n",
              "\n",
              "   polarity  \n",
              "0  0.593333  \n",
              "1  0.779167  \n",
              "2  0.811963  \n",
              "3  0.366667  \n",
              "4  0.370833  "
            ],
            "text/html": [
              "\n",
              "  <div id=\"df-ff2b0871-65cd-4b3f-a055-4aa1959fe503\">\n",
              "    <div class=\"colab-df-container\">\n",
              "      <div>\n",
              "<style scoped>\n",
              "    .dataframe tbody tr th:only-of-type {\n",
              "        vertical-align: middle;\n",
              "    }\n",
              "\n",
              "    .dataframe tbody tr th {\n",
              "        vertical-align: top;\n",
              "    }\n",
              "\n",
              "    .dataframe thead th {\n",
              "        text-align: right;\n",
              "    }\n",
              "</style>\n",
              "<table border=\"1\" class=\"dataframe\">\n",
              "  <thead>\n",
              "    <tr style=\"text-align: right;\">\n",
              "      <th></th>\n",
              "      <th>Username</th>\n",
              "      <th>Comment</th>\n",
              "      <th>polarity</th>\n",
              "    </tr>\n",
              "  </thead>\n",
              "  <tbody>\n",
              "    <tr>\n",
              "      <th>0</th>\n",
              "      <td>krishna chaudhari</td>\n",
              "      <td>i tried today its come out soo delicious  than...</td>\n",
              "      <td>0.593333</td>\n",
              "    </tr>\n",
              "    <tr>\n",
              "      <th>1</th>\n",
              "      <td>Lakshmi Thiruvadi</td>\n",
              "      <td>your recipe is amazing!! thank you for the det...</td>\n",
              "      <td>0.779167</td>\n",
              "    </tr>\n",
              "    <tr>\n",
              "      <th>2</th>\n",
              "      <td>Gayatri Rao</td>\n",
              "      <td>Hi Sanjyot!! I made this pulao yesterday ! It ...</td>\n",
              "      <td>0.811963</td>\n",
              "    </tr>\n",
              "    <tr>\n",
              "      <th>3</th>\n",
              "      <td>Bucket List</td>\n",
              "      <td>This was the first recipe I'd tried from YFL a...</td>\n",
              "      <td>0.366667</td>\n",
              "    </tr>\n",
              "    <tr>\n",
              "      <th>4</th>\n",
              "      <td>aishwarya bhosale</td>\n",
              "      <td>Hey Chef, I have followed this same recipe of ...</td>\n",
              "      <td>0.370833</td>\n",
              "    </tr>\n",
              "  </tbody>\n",
              "</table>\n",
              "</div>\n",
              "      <button class=\"colab-df-convert\" onclick=\"convertToInteractive('df-ff2b0871-65cd-4b3f-a055-4aa1959fe503')\"\n",
              "              title=\"Convert this dataframe to an interactive table.\"\n",
              "              style=\"display:none;\">\n",
              "        \n",
              "  <svg xmlns=\"http://www.w3.org/2000/svg\" height=\"24px\"viewBox=\"0 0 24 24\"\n",
              "       width=\"24px\">\n",
              "    <path d=\"M0 0h24v24H0V0z\" fill=\"none\"/>\n",
              "    <path d=\"M18.56 5.44l.94 2.06.94-2.06 2.06-.94-2.06-.94-.94-2.06-.94 2.06-2.06.94zm-11 1L8.5 8.5l.94-2.06 2.06-.94-2.06-.94L8.5 2.5l-.94 2.06-2.06.94zm10 10l.94 2.06.94-2.06 2.06-.94-2.06-.94-.94-2.06-.94 2.06-2.06.94z\"/><path d=\"M17.41 7.96l-1.37-1.37c-.4-.4-.92-.59-1.43-.59-.52 0-1.04.2-1.43.59L10.3 9.45l-7.72 7.72c-.78.78-.78 2.05 0 2.83L4 21.41c.39.39.9.59 1.41.59.51 0 1.02-.2 1.41-.59l7.78-7.78 2.81-2.81c.8-.78.8-2.07 0-2.86zM5.41 20L4 18.59l7.72-7.72 1.47 1.35L5.41 20z\"/>\n",
              "  </svg>\n",
              "      </button>\n",
              "      \n",
              "  <style>\n",
              "    .colab-df-container {\n",
              "      display:flex;\n",
              "      flex-wrap:wrap;\n",
              "      gap: 12px;\n",
              "    }\n",
              "\n",
              "    .colab-df-convert {\n",
              "      background-color: #E8F0FE;\n",
              "      border: none;\n",
              "      border-radius: 50%;\n",
              "      cursor: pointer;\n",
              "      display: none;\n",
              "      fill: #1967D2;\n",
              "      height: 32px;\n",
              "      padding: 0 0 0 0;\n",
              "      width: 32px;\n",
              "    }\n",
              "\n",
              "    .colab-df-convert:hover {\n",
              "      background-color: #E2EBFA;\n",
              "      box-shadow: 0px 1px 2px rgba(60, 64, 67, 0.3), 0px 1px 3px 1px rgba(60, 64, 67, 0.15);\n",
              "      fill: #174EA6;\n",
              "    }\n",
              "\n",
              "    [theme=dark] .colab-df-convert {\n",
              "      background-color: #3B4455;\n",
              "      fill: #D2E3FC;\n",
              "    }\n",
              "\n",
              "    [theme=dark] .colab-df-convert:hover {\n",
              "      background-color: #434B5C;\n",
              "      box-shadow: 0px 1px 3px 1px rgba(0, 0, 0, 0.15);\n",
              "      filter: drop-shadow(0px 1px 2px rgba(0, 0, 0, 0.3));\n",
              "      fill: #FFFFFF;\n",
              "    }\n",
              "  </style>\n",
              "\n",
              "      <script>\n",
              "        const buttonEl =\n",
              "          document.querySelector('#df-ff2b0871-65cd-4b3f-a055-4aa1959fe503 button.colab-df-convert');\n",
              "        buttonEl.style.display =\n",
              "          google.colab.kernel.accessAllowed ? 'block' : 'none';\n",
              "\n",
              "        async function convertToInteractive(key) {\n",
              "          const element = document.querySelector('#df-ff2b0871-65cd-4b3f-a055-4aa1959fe503');\n",
              "          const dataTable =\n",
              "            await google.colab.kernel.invokeFunction('convertToInteractive',\n",
              "                                                     [key], {});\n",
              "          if (!dataTable) return;\n",
              "\n",
              "          const docLinkHtml = 'Like what you see? Visit the ' +\n",
              "            '<a target=\"_blank\" href=https://colab.research.google.com/notebooks/data_table.ipynb>data table notebook</a>'\n",
              "            + ' to learn more about interactive tables.';\n",
              "          element.innerHTML = '';\n",
              "          dataTable['output_type'] = 'display_data';\n",
              "          await google.colab.output.renderOutput(dataTable, element);\n",
              "          const docLink = document.createElement('div');\n",
              "          docLink.innerHTML = docLinkHtml;\n",
              "          element.appendChild(docLink);\n",
              "        }\n",
              "      </script>\n",
              "    </div>\n",
              "  </div>\n",
              "  "
            ]
          },
          "metadata": {},
          "execution_count": 13
        }
      ]
    },
    {
      "cell_type": "code",
      "source": [
        "data = data.sample(frac=1).reset_index(drop=True)"
      ],
      "metadata": {
        "id": "zLjFn7isTPTz"
      },
      "execution_count": 14,
      "outputs": []
    },
    {
      "cell_type": "code",
      "source": [
        "data['pol_cat']  = 0"
      ],
      "metadata": {
        "id": "KMfqV93MTRoR"
      },
      "execution_count": 15,
      "outputs": []
    },
    {
      "cell_type": "code",
      "source": [
        "data['pol_cat'][data.polarity > 0] = 1\n",
        "data['pol_cat'][data.polarity <= 0] = -1"
      ],
      "metadata": {
        "id": "CzRGWwo6Tbie"
      },
      "execution_count": 16,
      "outputs": []
    },
    {
      "cell_type": "code",
      "source": [
        "data.head()"
      ],
      "metadata": {
        "colab": {
          "base_uri": "https://localhost:8080/",
          "height": 206
        },
        "id": "25xfjXZxTqko",
        "outputId": "3fbb1789-b42d-4605-ca46-1e390437373b"
      },
      "execution_count": 17,
      "outputs": [
        {
          "output_type": "execute_result",
          "data": {
            "text/plain": [
              "         Username                                            Comment  \\\n",
              "0          Sanjay    Omg itna Sara butter or oil dosto koi mat khana   \n",
              "1    Paresh Patil  Best presntatio sanjot Seriously yummy best ch...   \n",
              "2  rooney ramwani  Aloo- Matar Bhaji and Papad is also served wit...   \n",
              "3   HARSH DALWADI                     Gujarati recipe  'patra' banao   \n",
              "4   Shubha Mohite                                             Superb   \n",
              "\n",
              "   polarity  pol_cat  \n",
              "0  0.000000       -1  \n",
              "1  0.555556        1  \n",
              "2  0.000000       -1  \n",
              "3  0.000000       -1  \n",
              "4  1.000000        1  "
            ],
            "text/html": [
              "\n",
              "  <div id=\"df-6a352c2b-18cf-4acc-b9f0-3cd723bd9eac\">\n",
              "    <div class=\"colab-df-container\">\n",
              "      <div>\n",
              "<style scoped>\n",
              "    .dataframe tbody tr th:only-of-type {\n",
              "        vertical-align: middle;\n",
              "    }\n",
              "\n",
              "    .dataframe tbody tr th {\n",
              "        vertical-align: top;\n",
              "    }\n",
              "\n",
              "    .dataframe thead th {\n",
              "        text-align: right;\n",
              "    }\n",
              "</style>\n",
              "<table border=\"1\" class=\"dataframe\">\n",
              "  <thead>\n",
              "    <tr style=\"text-align: right;\">\n",
              "      <th></th>\n",
              "      <th>Username</th>\n",
              "      <th>Comment</th>\n",
              "      <th>polarity</th>\n",
              "      <th>pol_cat</th>\n",
              "    </tr>\n",
              "  </thead>\n",
              "  <tbody>\n",
              "    <tr>\n",
              "      <th>0</th>\n",
              "      <td>Sanjay</td>\n",
              "      <td>Omg itna Sara butter or oil dosto koi mat khana</td>\n",
              "      <td>0.000000</td>\n",
              "      <td>-1</td>\n",
              "    </tr>\n",
              "    <tr>\n",
              "      <th>1</th>\n",
              "      <td>Paresh Patil</td>\n",
              "      <td>Best presntatio sanjot Seriously yummy best ch...</td>\n",
              "      <td>0.555556</td>\n",
              "      <td>1</td>\n",
              "    </tr>\n",
              "    <tr>\n",
              "      <th>2</th>\n",
              "      <td>rooney ramwani</td>\n",
              "      <td>Aloo- Matar Bhaji and Papad is also served wit...</td>\n",
              "      <td>0.000000</td>\n",
              "      <td>-1</td>\n",
              "    </tr>\n",
              "    <tr>\n",
              "      <th>3</th>\n",
              "      <td>HARSH DALWADI</td>\n",
              "      <td>Gujarati recipe  'patra' banao</td>\n",
              "      <td>0.000000</td>\n",
              "      <td>-1</td>\n",
              "    </tr>\n",
              "    <tr>\n",
              "      <th>4</th>\n",
              "      <td>Shubha Mohite</td>\n",
              "      <td>Superb</td>\n",
              "      <td>1.000000</td>\n",
              "      <td>1</td>\n",
              "    </tr>\n",
              "  </tbody>\n",
              "</table>\n",
              "</div>\n",
              "      <button class=\"colab-df-convert\" onclick=\"convertToInteractive('df-6a352c2b-18cf-4acc-b9f0-3cd723bd9eac')\"\n",
              "              title=\"Convert this dataframe to an interactive table.\"\n",
              "              style=\"display:none;\">\n",
              "        \n",
              "  <svg xmlns=\"http://www.w3.org/2000/svg\" height=\"24px\"viewBox=\"0 0 24 24\"\n",
              "       width=\"24px\">\n",
              "    <path d=\"M0 0h24v24H0V0z\" fill=\"none\"/>\n",
              "    <path d=\"M18.56 5.44l.94 2.06.94-2.06 2.06-.94-2.06-.94-.94-2.06-.94 2.06-2.06.94zm-11 1L8.5 8.5l.94-2.06 2.06-.94-2.06-.94L8.5 2.5l-.94 2.06-2.06.94zm10 10l.94 2.06.94-2.06 2.06-.94-2.06-.94-.94-2.06-.94 2.06-2.06.94z\"/><path d=\"M17.41 7.96l-1.37-1.37c-.4-.4-.92-.59-1.43-.59-.52 0-1.04.2-1.43.59L10.3 9.45l-7.72 7.72c-.78.78-.78 2.05 0 2.83L4 21.41c.39.39.9.59 1.41.59.51 0 1.02-.2 1.41-.59l7.78-7.78 2.81-2.81c.8-.78.8-2.07 0-2.86zM5.41 20L4 18.59l7.72-7.72 1.47 1.35L5.41 20z\"/>\n",
              "  </svg>\n",
              "      </button>\n",
              "      \n",
              "  <style>\n",
              "    .colab-df-container {\n",
              "      display:flex;\n",
              "      flex-wrap:wrap;\n",
              "      gap: 12px;\n",
              "    }\n",
              "\n",
              "    .colab-df-convert {\n",
              "      background-color: #E8F0FE;\n",
              "      border: none;\n",
              "      border-radius: 50%;\n",
              "      cursor: pointer;\n",
              "      display: none;\n",
              "      fill: #1967D2;\n",
              "      height: 32px;\n",
              "      padding: 0 0 0 0;\n",
              "      width: 32px;\n",
              "    }\n",
              "\n",
              "    .colab-df-convert:hover {\n",
              "      background-color: #E2EBFA;\n",
              "      box-shadow: 0px 1px 2px rgba(60, 64, 67, 0.3), 0px 1px 3px 1px rgba(60, 64, 67, 0.15);\n",
              "      fill: #174EA6;\n",
              "    }\n",
              "\n",
              "    [theme=dark] .colab-df-convert {\n",
              "      background-color: #3B4455;\n",
              "      fill: #D2E3FC;\n",
              "    }\n",
              "\n",
              "    [theme=dark] .colab-df-convert:hover {\n",
              "      background-color: #434B5C;\n",
              "      box-shadow: 0px 1px 3px 1px rgba(0, 0, 0, 0.15);\n",
              "      filter: drop-shadow(0px 1px 2px rgba(0, 0, 0, 0.3));\n",
              "      fill: #FFFFFF;\n",
              "    }\n",
              "  </style>\n",
              "\n",
              "      <script>\n",
              "        const buttonEl =\n",
              "          document.querySelector('#df-6a352c2b-18cf-4acc-b9f0-3cd723bd9eac button.colab-df-convert');\n",
              "        buttonEl.style.display =\n",
              "          google.colab.kernel.accessAllowed ? 'block' : 'none';\n",
              "\n",
              "        async function convertToInteractive(key) {\n",
              "          const element = document.querySelector('#df-6a352c2b-18cf-4acc-b9f0-3cd723bd9eac');\n",
              "          const dataTable =\n",
              "            await google.colab.kernel.invokeFunction('convertToInteractive',\n",
              "                                                     [key], {});\n",
              "          if (!dataTable) return;\n",
              "\n",
              "          const docLinkHtml = 'Like what you see? Visit the ' +\n",
              "            '<a target=\"_blank\" href=https://colab.research.google.com/notebooks/data_table.ipynb>data table notebook</a>'\n",
              "            + ' to learn more about interactive tables.';\n",
              "          element.innerHTML = '';\n",
              "          dataTable['output_type'] = 'display_data';\n",
              "          await google.colab.output.renderOutput(dataTable, element);\n",
              "          const docLink = document.createElement('div');\n",
              "          docLink.innerHTML = docLinkHtml;\n",
              "          element.appendChild(docLink);\n",
              "        }\n",
              "      </script>\n",
              "    </div>\n",
              "  </div>\n",
              "  "
            ]
          },
          "metadata": {},
          "execution_count": 17
        }
      ]
    },
    {
      "cell_type": "code",
      "source": [
        "data['pol_cat'].value_counts()"
      ],
      "metadata": {
        "colab": {
          "base_uri": "https://localhost:8080/"
        },
        "id": "oa6SKIRFT2Xw",
        "outputId": "7ab209b3-d6be-4984-cce1-c43078f43de8"
      },
      "execution_count": 18,
      "outputs": [
        {
          "output_type": "execute_result",
          "data": {
            "text/plain": [
              " 1    308\n",
              "-1    248\n",
              "Name: pol_cat, dtype: int64"
            ]
          },
          "metadata": {},
          "execution_count": 18
        }
      ]
    },
    {
      "cell_type": "code",
      "source": [
        "data_pos = data[data['pol_cat'] == 1]\n",
        "data_pos = data_pos.reset_index(drop = True)\n",
        "\n",
        "data_neg = data[data['pol_cat'] == -1]\n",
        "data_neg = data_neg.reset_index(drop = True)\n",
        "\n",
        "# data_neutral = data[data['pol_cat'] == 0]\n",
        "# data_neutral = data_neutral.reset_index(drop = True)"
      ],
      "metadata": {
        "id": "BjNXKnnXUFPI"
      },
      "execution_count": 19,
      "outputs": []
    },
    {
      "cell_type": "code",
      "source": [
        "data_pos.head()"
      ],
      "metadata": {
        "colab": {
          "base_uri": "https://localhost:8080/",
          "height": 206
        },
        "id": "l_grAvvNUklC",
        "outputId": "d4fe04ef-b85f-406d-c2e5-9cb962750347"
      },
      "execution_count": 20,
      "outputs": [
        {
          "output_type": "execute_result",
          "data": {
            "text/plain": [
              "         Username                                            Comment  \\\n",
              "0    Paresh Patil  Best presntatio sanjot Seriously yummy best ch...   \n",
              "1   Shubha Mohite                                             Superb   \n",
              "2    Jyoti Adukia           Just love ur recipes.,ur way of cooking.   \n",
              "3   Rishabh Verma  Please make some easy recipes for hostel students   \n",
              "4  Goyani Sangita                                        Wow suparb    \n",
              "\n",
              "   polarity  pol_cat  \n",
              "0  0.555556        1  \n",
              "1  1.000000        1  \n",
              "2  0.500000        1  \n",
              "3  0.433333        1  \n",
              "4  0.100000        1  "
            ],
            "text/html": [
              "\n",
              "  <div id=\"df-f211e914-1fa2-4c15-8dce-ab7d4bb58e7e\">\n",
              "    <div class=\"colab-df-container\">\n",
              "      <div>\n",
              "<style scoped>\n",
              "    .dataframe tbody tr th:only-of-type {\n",
              "        vertical-align: middle;\n",
              "    }\n",
              "\n",
              "    .dataframe tbody tr th {\n",
              "        vertical-align: top;\n",
              "    }\n",
              "\n",
              "    .dataframe thead th {\n",
              "        text-align: right;\n",
              "    }\n",
              "</style>\n",
              "<table border=\"1\" class=\"dataframe\">\n",
              "  <thead>\n",
              "    <tr style=\"text-align: right;\">\n",
              "      <th></th>\n",
              "      <th>Username</th>\n",
              "      <th>Comment</th>\n",
              "      <th>polarity</th>\n",
              "      <th>pol_cat</th>\n",
              "    </tr>\n",
              "  </thead>\n",
              "  <tbody>\n",
              "    <tr>\n",
              "      <th>0</th>\n",
              "      <td>Paresh Patil</td>\n",
              "      <td>Best presntatio sanjot Seriously yummy best ch...</td>\n",
              "      <td>0.555556</td>\n",
              "      <td>1</td>\n",
              "    </tr>\n",
              "    <tr>\n",
              "      <th>1</th>\n",
              "      <td>Shubha Mohite</td>\n",
              "      <td>Superb</td>\n",
              "      <td>1.000000</td>\n",
              "      <td>1</td>\n",
              "    </tr>\n",
              "    <tr>\n",
              "      <th>2</th>\n",
              "      <td>Jyoti Adukia</td>\n",
              "      <td>Just love ur recipes.,ur way of cooking.</td>\n",
              "      <td>0.500000</td>\n",
              "      <td>1</td>\n",
              "    </tr>\n",
              "    <tr>\n",
              "      <th>3</th>\n",
              "      <td>Rishabh Verma</td>\n",
              "      <td>Please make some easy recipes for hostel students</td>\n",
              "      <td>0.433333</td>\n",
              "      <td>1</td>\n",
              "    </tr>\n",
              "    <tr>\n",
              "      <th>4</th>\n",
              "      <td>Goyani Sangita</td>\n",
              "      <td>Wow suparb</td>\n",
              "      <td>0.100000</td>\n",
              "      <td>1</td>\n",
              "    </tr>\n",
              "  </tbody>\n",
              "</table>\n",
              "</div>\n",
              "      <button class=\"colab-df-convert\" onclick=\"convertToInteractive('df-f211e914-1fa2-4c15-8dce-ab7d4bb58e7e')\"\n",
              "              title=\"Convert this dataframe to an interactive table.\"\n",
              "              style=\"display:none;\">\n",
              "        \n",
              "  <svg xmlns=\"http://www.w3.org/2000/svg\" height=\"24px\"viewBox=\"0 0 24 24\"\n",
              "       width=\"24px\">\n",
              "    <path d=\"M0 0h24v24H0V0z\" fill=\"none\"/>\n",
              "    <path d=\"M18.56 5.44l.94 2.06.94-2.06 2.06-.94-2.06-.94-.94-2.06-.94 2.06-2.06.94zm-11 1L8.5 8.5l.94-2.06 2.06-.94-2.06-.94L8.5 2.5l-.94 2.06-2.06.94zm10 10l.94 2.06.94-2.06 2.06-.94-2.06-.94-.94-2.06-.94 2.06-2.06.94z\"/><path d=\"M17.41 7.96l-1.37-1.37c-.4-.4-.92-.59-1.43-.59-.52 0-1.04.2-1.43.59L10.3 9.45l-7.72 7.72c-.78.78-.78 2.05 0 2.83L4 21.41c.39.39.9.59 1.41.59.51 0 1.02-.2 1.41-.59l7.78-7.78 2.81-2.81c.8-.78.8-2.07 0-2.86zM5.41 20L4 18.59l7.72-7.72 1.47 1.35L5.41 20z\"/>\n",
              "  </svg>\n",
              "      </button>\n",
              "      \n",
              "  <style>\n",
              "    .colab-df-container {\n",
              "      display:flex;\n",
              "      flex-wrap:wrap;\n",
              "      gap: 12px;\n",
              "    }\n",
              "\n",
              "    .colab-df-convert {\n",
              "      background-color: #E8F0FE;\n",
              "      border: none;\n",
              "      border-radius: 50%;\n",
              "      cursor: pointer;\n",
              "      display: none;\n",
              "      fill: #1967D2;\n",
              "      height: 32px;\n",
              "      padding: 0 0 0 0;\n",
              "      width: 32px;\n",
              "    }\n",
              "\n",
              "    .colab-df-convert:hover {\n",
              "      background-color: #E2EBFA;\n",
              "      box-shadow: 0px 1px 2px rgba(60, 64, 67, 0.3), 0px 1px 3px 1px rgba(60, 64, 67, 0.15);\n",
              "      fill: #174EA6;\n",
              "    }\n",
              "\n",
              "    [theme=dark] .colab-df-convert {\n",
              "      background-color: #3B4455;\n",
              "      fill: #D2E3FC;\n",
              "    }\n",
              "\n",
              "    [theme=dark] .colab-df-convert:hover {\n",
              "      background-color: #434B5C;\n",
              "      box-shadow: 0px 1px 3px 1px rgba(0, 0, 0, 0.15);\n",
              "      filter: drop-shadow(0px 1px 2px rgba(0, 0, 0, 0.3));\n",
              "      fill: #FFFFFF;\n",
              "    }\n",
              "  </style>\n",
              "\n",
              "      <script>\n",
              "        const buttonEl =\n",
              "          document.querySelector('#df-f211e914-1fa2-4c15-8dce-ab7d4bb58e7e button.colab-df-convert');\n",
              "        buttonEl.style.display =\n",
              "          google.colab.kernel.accessAllowed ? 'block' : 'none';\n",
              "\n",
              "        async function convertToInteractive(key) {\n",
              "          const element = document.querySelector('#df-f211e914-1fa2-4c15-8dce-ab7d4bb58e7e');\n",
              "          const dataTable =\n",
              "            await google.colab.kernel.invokeFunction('convertToInteractive',\n",
              "                                                     [key], {});\n",
              "          if (!dataTable) return;\n",
              "\n",
              "          const docLinkHtml = 'Like what you see? Visit the ' +\n",
              "            '<a target=\"_blank\" href=https://colab.research.google.com/notebooks/data_table.ipynb>data table notebook</a>'\n",
              "            + ' to learn more about interactive tables.';\n",
              "          element.innerHTML = '';\n",
              "          dataTable['output_type'] = 'display_data';\n",
              "          await google.colab.output.renderOutput(dataTable, element);\n",
              "          const docLink = document.createElement('div');\n",
              "          docLink.innerHTML = docLinkHtml;\n",
              "          element.appendChild(docLink);\n",
              "        }\n",
              "      </script>\n",
              "    </div>\n",
              "  </div>\n",
              "  "
            ]
          },
          "metadata": {},
          "execution_count": 20
        }
      ]
    },
    {
      "cell_type": "code",
      "source": [
        "data_pos.shape"
      ],
      "metadata": {
        "colab": {
          "base_uri": "https://localhost:8080/"
        },
        "id": "yP06ZQLgUs5M",
        "outputId": "8f5b4e87-4012-4389-fbee-4d2ab3a5603a"
      },
      "execution_count": 21,
      "outputs": [
        {
          "output_type": "execute_result",
          "data": {
            "text/plain": [
              "(308, 4)"
            ]
          },
          "metadata": {},
          "execution_count": 21
        }
      ]
    },
    {
      "cell_type": "code",
      "source": [
        "data_neg.head()"
      ],
      "metadata": {
        "colab": {
          "base_uri": "https://localhost:8080/",
          "height": 206
        },
        "id": "YUdhCJhhUytU",
        "outputId": "23758bae-c87c-4a75-8475-2f4f29fc84b7"
      },
      "execution_count": 22,
      "outputs": [
        {
          "output_type": "execute_result",
          "data": {
            "text/plain": [
              "             Username                                            Comment  \\\n",
              "0              Sanjay    Omg itna Sara butter or oil dosto koi mat khana   \n",
              "1      rooney ramwani  Aloo- Matar Bhaji and Papad is also served wit...   \n",
              "2       HARSH DALWADI                     Gujarati recipe  'patra' banao   \n",
              "3  Karthika Damodaran  I started having my midnight cravings..meanwhi...   \n",
              "4        Grishma Shah              Super..plz add a link to buy the tava   \n",
              "\n",
              "   polarity  pol_cat  \n",
              "0       0.0       -1  \n",
              "1       0.0       -1  \n",
              "2       0.0       -1  \n",
              "3       0.0       -1  \n",
              "4       0.0       -1  "
            ],
            "text/html": [
              "\n",
              "  <div id=\"df-44522b28-3806-4d86-bddc-2d134bab7e65\">\n",
              "    <div class=\"colab-df-container\">\n",
              "      <div>\n",
              "<style scoped>\n",
              "    .dataframe tbody tr th:only-of-type {\n",
              "        vertical-align: middle;\n",
              "    }\n",
              "\n",
              "    .dataframe tbody tr th {\n",
              "        vertical-align: top;\n",
              "    }\n",
              "\n",
              "    .dataframe thead th {\n",
              "        text-align: right;\n",
              "    }\n",
              "</style>\n",
              "<table border=\"1\" class=\"dataframe\">\n",
              "  <thead>\n",
              "    <tr style=\"text-align: right;\">\n",
              "      <th></th>\n",
              "      <th>Username</th>\n",
              "      <th>Comment</th>\n",
              "      <th>polarity</th>\n",
              "      <th>pol_cat</th>\n",
              "    </tr>\n",
              "  </thead>\n",
              "  <tbody>\n",
              "    <tr>\n",
              "      <th>0</th>\n",
              "      <td>Sanjay</td>\n",
              "      <td>Omg itna Sara butter or oil dosto koi mat khana</td>\n",
              "      <td>0.0</td>\n",
              "      <td>-1</td>\n",
              "    </tr>\n",
              "    <tr>\n",
              "      <th>1</th>\n",
              "      <td>rooney ramwani</td>\n",
              "      <td>Aloo- Matar Bhaji and Papad is also served wit...</td>\n",
              "      <td>0.0</td>\n",
              "      <td>-1</td>\n",
              "    </tr>\n",
              "    <tr>\n",
              "      <th>2</th>\n",
              "      <td>HARSH DALWADI</td>\n",
              "      <td>Gujarati recipe  'patra' banao</td>\n",
              "      <td>0.0</td>\n",
              "      <td>-1</td>\n",
              "    </tr>\n",
              "    <tr>\n",
              "      <th>3</th>\n",
              "      <td>Karthika Damodaran</td>\n",
              "      <td>I started having my midnight cravings..meanwhi...</td>\n",
              "      <td>0.0</td>\n",
              "      <td>-1</td>\n",
              "    </tr>\n",
              "    <tr>\n",
              "      <th>4</th>\n",
              "      <td>Grishma Shah</td>\n",
              "      <td>Super..plz add a link to buy the tava</td>\n",
              "      <td>0.0</td>\n",
              "      <td>-1</td>\n",
              "    </tr>\n",
              "  </tbody>\n",
              "</table>\n",
              "</div>\n",
              "      <button class=\"colab-df-convert\" onclick=\"convertToInteractive('df-44522b28-3806-4d86-bddc-2d134bab7e65')\"\n",
              "              title=\"Convert this dataframe to an interactive table.\"\n",
              "              style=\"display:none;\">\n",
              "        \n",
              "  <svg xmlns=\"http://www.w3.org/2000/svg\" height=\"24px\"viewBox=\"0 0 24 24\"\n",
              "       width=\"24px\">\n",
              "    <path d=\"M0 0h24v24H0V0z\" fill=\"none\"/>\n",
              "    <path d=\"M18.56 5.44l.94 2.06.94-2.06 2.06-.94-2.06-.94-.94-2.06-.94 2.06-2.06.94zm-11 1L8.5 8.5l.94-2.06 2.06-.94-2.06-.94L8.5 2.5l-.94 2.06-2.06.94zm10 10l.94 2.06.94-2.06 2.06-.94-2.06-.94-.94-2.06-.94 2.06-2.06.94z\"/><path d=\"M17.41 7.96l-1.37-1.37c-.4-.4-.92-.59-1.43-.59-.52 0-1.04.2-1.43.59L10.3 9.45l-7.72 7.72c-.78.78-.78 2.05 0 2.83L4 21.41c.39.39.9.59 1.41.59.51 0 1.02-.2 1.41-.59l7.78-7.78 2.81-2.81c.8-.78.8-2.07 0-2.86zM5.41 20L4 18.59l7.72-7.72 1.47 1.35L5.41 20z\"/>\n",
              "  </svg>\n",
              "      </button>\n",
              "      \n",
              "  <style>\n",
              "    .colab-df-container {\n",
              "      display:flex;\n",
              "      flex-wrap:wrap;\n",
              "      gap: 12px;\n",
              "    }\n",
              "\n",
              "    .colab-df-convert {\n",
              "      background-color: #E8F0FE;\n",
              "      border: none;\n",
              "      border-radius: 50%;\n",
              "      cursor: pointer;\n",
              "      display: none;\n",
              "      fill: #1967D2;\n",
              "      height: 32px;\n",
              "      padding: 0 0 0 0;\n",
              "      width: 32px;\n",
              "    }\n",
              "\n",
              "    .colab-df-convert:hover {\n",
              "      background-color: #E2EBFA;\n",
              "      box-shadow: 0px 1px 2px rgba(60, 64, 67, 0.3), 0px 1px 3px 1px rgba(60, 64, 67, 0.15);\n",
              "      fill: #174EA6;\n",
              "    }\n",
              "\n",
              "    [theme=dark] .colab-df-convert {\n",
              "      background-color: #3B4455;\n",
              "      fill: #D2E3FC;\n",
              "    }\n",
              "\n",
              "    [theme=dark] .colab-df-convert:hover {\n",
              "      background-color: #434B5C;\n",
              "      box-shadow: 0px 1px 3px 1px rgba(0, 0, 0, 0.15);\n",
              "      filter: drop-shadow(0px 1px 2px rgba(0, 0, 0, 0.3));\n",
              "      fill: #FFFFFF;\n",
              "    }\n",
              "  </style>\n",
              "\n",
              "      <script>\n",
              "        const buttonEl =\n",
              "          document.querySelector('#df-44522b28-3806-4d86-bddc-2d134bab7e65 button.colab-df-convert');\n",
              "        buttonEl.style.display =\n",
              "          google.colab.kernel.accessAllowed ? 'block' : 'none';\n",
              "\n",
              "        async function convertToInteractive(key) {\n",
              "          const element = document.querySelector('#df-44522b28-3806-4d86-bddc-2d134bab7e65');\n",
              "          const dataTable =\n",
              "            await google.colab.kernel.invokeFunction('convertToInteractive',\n",
              "                                                     [key], {});\n",
              "          if (!dataTable) return;\n",
              "\n",
              "          const docLinkHtml = 'Like what you see? Visit the ' +\n",
              "            '<a target=\"_blank\" href=https://colab.research.google.com/notebooks/data_table.ipynb>data table notebook</a>'\n",
              "            + ' to learn more about interactive tables.';\n",
              "          element.innerHTML = '';\n",
              "          dataTable['output_type'] = 'display_data';\n",
              "          await google.colab.output.renderOutput(dataTable, element);\n",
              "          const docLink = document.createElement('div');\n",
              "          docLink.innerHTML = docLinkHtml;\n",
              "          element.appendChild(docLink);\n",
              "        }\n",
              "      </script>\n",
              "    </div>\n",
              "  </div>\n",
              "  "
            ]
          },
          "metadata": {},
          "execution_count": 22
        }
      ]
    },
    {
      "cell_type": "code",
      "source": [
        "data_neg['Comment'][20]"
      ],
      "metadata": {
        "colab": {
          "base_uri": "https://localhost:8080/",
          "height": 36
        },
        "id": "x4QwZKApVGrE",
        "outputId": "cda71b58-2c3b-40fe-88c2-356cddfe41ef"
      },
      "execution_count": 23,
      "outputs": [
        {
          "output_type": "execute_result",
          "data": {
            "text/plain": [
              "'Mane Aaj dekha or banaya sabko bhut achha laga thank you sir'"
            ],
            "application/vnd.google.colaboratory.intrinsic+json": {
              "type": "string"
            }
          },
          "metadata": {},
          "execution_count": 23
        }
      ]
    },
    {
      "cell_type": "code",
      "source": [
        "data.pol_cat.value_counts().plot.bar()\n",
        "data.pol_cat.value_counts()"
      ],
      "metadata": {
        "colab": {
          "base_uri": "https://localhost:8080/",
          "height": 317
        },
        "id": "fiVTwqTHV91K",
        "outputId": "813514ca-8a53-4b68-fe29-615f0f98649f"
      },
      "execution_count": 24,
      "outputs": [
        {
          "output_type": "execute_result",
          "data": {
            "text/plain": [
              " 1    308\n",
              "-1    248\n",
              "Name: pol_cat, dtype: int64"
            ]
          },
          "metadata": {},
          "execution_count": 24
        },
        {
          "output_type": "display_data",
          "data": {
            "text/plain": [
              "<Figure size 432x288 with 1 Axes>"
            ],
            "image/png": "[encoded data removed]"
          },
          "metadata": {
            "needs_background": "light"
          }
        }
      ]
    },
    {
      "cell_type": "code",
      "source": [
        "data['Comment'] = data['Comment'].str.lower()"
      ],
      "metadata": {
        "id": "F0NkWyHNWMxg"
      },
      "execution_count": 25,
      "outputs": []
    },
    {
      "cell_type": "code",
      "source": [
        "data['Comment'].head()"
      ],
      "metadata": {
        "colab": {
          "base_uri": "https://localhost:8080/"
        },
        "id": "kfqmx4WZXOaR",
        "outputId": "686444d3-d830-4125-9b7c-30912d812f6b"
      },
      "execution_count": 26,
      "outputs": [
        {
          "output_type": "execute_result",
          "data": {
            "text/plain": [
              "0      omg itna sara butter or oil dosto koi mat khana\n",
              "1    best presntatio sanjot seriously yummy best ch...\n",
              "2    aloo- matar bhaji and papad is also served wit...\n",
              "3                       gujarati recipe  'patra' banao\n",
              "4                                               superb\n",
              "Name: Comment, dtype: object"
            ]
          },
          "metadata": {},
          "execution_count": 26
        }
      ]
    },
    {
      "cell_type": "code",
      "source": [
        "data.describe()"
      ],
      "metadata": {
        "colab": {
          "base_uri": "https://localhost:8080/",
          "height": 300
        },
        "id": "K_-44_jvXw66",
        "outputId": "7eb8cc57-73a8-4582-c88f-2c9c62203f73"
      },
      "execution_count": 27,
      "outputs": [
        {
          "output_type": "execute_result",
          "data": {
            "text/plain": [
              "         polarity     pol_cat\n",
              "count  556.000000  556.000000\n",
              "mean     0.293058    0.107914\n",
              "std      0.358694    0.995056\n",
              "min     -0.600000   -1.000000\n",
              "25%      0.000000   -1.000000\n",
              "50%      0.166667    1.000000\n",
              "75%      0.598242    1.000000\n",
              "max      1.000000    1.000000"
            ],
            "text/html": [
              "\n",
              "  <div id=\"df-88d31419-d356-43ff-9ce3-2b6902c7e215\">\n",
              "    <div class=\"colab-df-container\">\n",
              "      <div>\n",
              "<style scoped>\n",
              "    .dataframe tbody tr th:only-of-type {\n",
              "        vertical-align: middle;\n",
              "    }\n",
              "\n",
              "    .dataframe tbody tr th {\n",
              "        vertical-align: top;\n",
              "    }\n",
              "\n",
              "    .dataframe thead th {\n",
              "        text-align: right;\n",
              "    }\n",
              "</style>\n",
              "<table border=\"1\" class=\"dataframe\">\n",
              "  <thead>\n",
              "    <tr style=\"text-align: right;\">\n",
              "      <th></th>\n",
              "      <th>polarity</th>\n",
              "      <th>pol_cat</th>\n",
              "    </tr>\n",
              "  </thead>\n",
              "  <tbody>\n",
              "    <tr>\n",
              "      <th>count</th>\n",
              "      <td>556.000000</td>\n",
              "      <td>556.000000</td>\n",
              "    </tr>\n",
              "    <tr>\n",
              "      <th>mean</th>\n",
              "      <td>0.293058</td>\n",
              "      <td>0.107914</td>\n",
              "    </tr>\n",
              "    <tr>\n",
              "      <th>std</th>\n",
              "      <td>0.358694</td>\n",
              "      <td>0.995056</td>\n",
              "    </tr>\n",
              "    <tr>\n",
              "      <th>min</th>\n",
              "      <td>-0.600000</td>\n",
              "      <td>-1.000000</td>\n",
              "    </tr>\n",
              "    <tr>\n",
              "      <th>25%</th>\n",
              "      <td>0.000000</td>\n",
              "      <td>-1.000000</td>\n",
              "    </tr>\n",
              "    <tr>\n",
              "      <th>50%</th>\n",
              "      <td>0.166667</td>\n",
              "      <td>1.000000</td>\n",
              "    </tr>\n",
              "    <tr>\n",
              "      <th>75%</th>\n",
              "      <td>0.598242</td>\n",
              "      <td>1.000000</td>\n",
              "    </tr>\n",
              "    <tr>\n",
              "      <th>max</th>\n",
              "      <td>1.000000</td>\n",
              "      <td>1.000000</td>\n",
              "    </tr>\n",
              "  </tbody>\n",
              "</table>\n",
              "</div>\n",
              "      <button class=\"colab-df-convert\" onclick=\"convertToInteractive('df-88d31419-d356-43ff-9ce3-2b6902c7e215')\"\n",
              "              title=\"Convert this dataframe to an interactive table.\"\n",
              "              style=\"display:none;\">\n",
              "        \n",
              "  <svg xmlns=\"http://www.w3.org/2000/svg\" height=\"24px\"viewBox=\"0 0 24 24\"\n",
              "       width=\"24px\">\n",
              "    <path d=\"M0 0h24v24H0V0z\" fill=\"none\"/>\n",
              "    <path d=\"M18.56 5.44l.94 2.06.94-2.06 2.06-.94-2.06-.94-.94-2.06-.94 2.06-2.06.94zm-11 1L8.5 8.5l.94-2.06 2.06-.94-2.06-.94L8.5 2.5l-.94 2.06-2.06.94zm10 10l.94 2.06.94-2.06 2.06-.94-2.06-.94-.94-2.06-.94 2.06-2.06.94z\"/><path d=\"M17.41 7.96l-1.37-1.37c-.4-.4-.92-.59-1.43-.59-.52 0-1.04.2-1.43.59L10.3 9.45l-7.72 7.72c-.78.78-.78 2.05 0 2.83L4 21.41c.39.39.9.59 1.41.59.51 0 1.02-.2 1.41-.59l7.78-7.78 2.81-2.81c.8-.78.8-2.07 0-2.86zM5.41 20L4 18.59l7.72-7.72 1.47 1.35L5.41 20z\"/>\n",
              "  </svg>\n",
              "      </button>\n",
              "      \n",
              "  <style>\n",
              "    .colab-df-container {\n",
              "      display:flex;\n",
              "      flex-wrap:wrap;\n",
              "      gap: 12px;\n",
              "    }\n",
              "\n",
              "    .colab-df-convert {\n",
              "      background-color: #E8F0FE;\n",
              "      border: none;\n",
              "      border-radius: 50%;\n",
              "      cursor: pointer;\n",
              "      display: none;\n",
              "      fill: #1967D2;\n",
              "      height: 32px;\n",
              "      padding: 0 0 0 0;\n",
              "      width: 32px;\n",
              "    }\n",
              "\n",
              "    .colab-df-convert:hover {\n",
              "      background-color: #E2EBFA;\n",
              "      box-shadow: 0px 1px 2px rgba(60, 64, 67, 0.3), 0px 1px 3px 1px rgba(60, 64, 67, 0.15);\n",
              "      fill: #174EA6;\n",
              "    }\n",
              "\n",
              "    [theme=dark] .colab-df-convert {\n",
              "      background-color: #3B4455;\n",
              "      fill: #D2E3FC;\n",
              "    }\n",
              "\n",
              "    [theme=dark] .colab-df-convert:hover {\n",
              "      background-color: #434B5C;\n",
              "      box-shadow: 0px 1px 3px 1px rgba(0, 0, 0, 0.15);\n",
              "      filter: drop-shadow(0px 1px 2px rgba(0, 0, 0, 0.3));\n",
              "      fill: #FFFFFF;\n",
              "    }\n",
              "  </style>\n",
              "\n",
              "      <script>\n",
              "        const buttonEl =\n",
              "          document.querySelector('#df-88d31419-d356-43ff-9ce3-2b6902c7e215 button.colab-df-convert');\n",
              "        buttonEl.style.display =\n",
              "          google.colab.kernel.accessAllowed ? 'block' : 'none';\n",
              "\n",
              "        async function convertToInteractive(key) {\n",
              "          const element = document.querySelector('#df-88d31419-d356-43ff-9ce3-2b6902c7e215');\n",
              "          const dataTable =\n",
              "            await google.colab.kernel.invokeFunction('convertToInteractive',\n",
              "                                                     [key], {});\n",
              "          if (!dataTable) return;\n",
              "\n",
              "          const docLinkHtml = 'Like what you see? Visit the ' +\n",
              "            '<a target=\"_blank\" href=https://colab.research.google.com/notebooks/data_table.ipynb>data table notebook</a>'\n",
              "            + ' to learn more about interactive tables.';\n",
              "          element.innerHTML = '';\n",
              "          dataTable['output_type'] = 'display_data';\n",
              "          await google.colab.output.renderOutput(dataTable, element);\n",
              "          const docLink = document.createElement('div');\n",
              "          docLink.innerHTML = docLinkHtml;\n",
              "          element.appendChild(docLink);\n",
              "        }\n",
              "      </script>\n",
              "    </div>\n",
              "  </div>\n",
              "  "
            ]
          },
          "metadata": {},
          "execution_count": 27
        }
      ]
    },
    {
      "cell_type": "code",
      "source": [
        "data.info()"
      ],
      "metadata": {
        "colab": {
          "base_uri": "https://localhost:8080/"
        },
        "id": "qvSzpAYQX3pK",
        "outputId": "39a87fc8-126b-44e1-feda-5b4640e238d1"
      },
      "execution_count": 28,
      "outputs": [
        {
          "output_type": "stream",
          "name": "stdout",
          "text": [
            "<class 'pandas.core.frame.DataFrame'>\n",
            "RangeIndex: 556 entries, 0 to 555\n",
            "Data columns (total 4 columns):\n",
            " #   Column    Non-Null Count  Dtype  \n",
            "---  ------    --------------  -----  \n",
            " 0   Username  556 non-null    object \n",
            " 1   Comment   556 non-null    object \n",
            " 2   polarity  556 non-null    float64\n",
            " 3   pol_cat   556 non-null    int64  \n",
            "dtypes: float64(1), int64(1), object(2)\n",
            "memory usage: 17.5+ KB\n"
          ]
        }
      ]
    },
    {
      "cell_type": "code",
      "source": [
        "data['Comment'][0]"
      ],
      "metadata": {
        "colab": {
          "base_uri": "https://localhost:8080/",
          "height": 36
        },
        "id": "lLxSyI1uX9of",
        "outputId": "b1b6e0dd-7cd9-4062-d299-b43827e4b500"
      },
      "execution_count": 29,
      "outputs": [
        {
          "output_type": "execute_result",
          "data": {
            "text/plain": [
              "'omg itna sara butter or oil dosto koi mat khana'"
            ],
            "application/vnd.google.colaboratory.intrinsic+json": {
              "type": "string"
            }
          },
          "metadata": {},
          "execution_count": 29
        }
      ]
    },
    {
      "cell_type": "code",
      "source": [
        "data['Comment'][0].strip()"
      ],
      "metadata": {
        "colab": {
          "base_uri": "https://localhost:8080/",
          "height": 36
        },
        "id": "7LvWsTKkccoO",
        "outputId": "11bc01bb-2bd8-42bb-b90c-f4d12f1b0af6"
      },
      "execution_count": 30,
      "outputs": [
        {
          "output_type": "execute_result",
          "data": {
            "text/plain": [
              "'omg itna sara butter or oil dosto koi mat khana'"
            ],
            "application/vnd.google.colaboratory.intrinsic+json": {
              "type": "string"
            }
          },
          "metadata": {},
          "execution_count": 30
        }
      ]
    },
    {
      "cell_type": "code",
      "source": [
        "import nltk\n",
        "nltk.download(\"stopwords\")\n"
      ],
      "metadata": {
        "colab": {
          "base_uri": "https://localhost:8080/"
        },
        "id": "mfHg6zxUcoGe",
        "outputId": "be8c844b-a061-46b3-e106-b783cdf8c966"
      },
      "execution_count": 31,
      "outputs": [
        {
          "output_type": "stream",
          "name": "stderr",
          "text": [
            "[nltk_data] Downloading package stopwords to /root/nltk_data...\n",
            "[nltk_data]   Unzipping corpora/stopwords.zip.\n"
          ]
        },
        {
          "output_type": "execute_result",
          "data": {
            "text/plain": [
              "True"
            ]
          },
          "metadata": {},
          "execution_count": 31
        }
      ]
    },
    {
      "cell_type": "code",
      "source": [
        "nltk.download(\"punkt\")"
      ],
      "metadata": {
        "colab": {
          "base_uri": "https://localhost:8080/"
        },
        "id": "UbVOpm87ctur",
        "outputId": "15612b65-485b-4cc5-f211-65ac18e43ae1"
      },
      "execution_count": 32,
      "outputs": [
        {
          "output_type": "stream",
          "name": "stderr",
          "text": [
            "[nltk_data] Downloading package punkt to /root/nltk_data...\n",
            "[nltk_data]   Unzipping tokenizers/punkt.zip.\n"
          ]
        },
        {
          "output_type": "execute_result",
          "data": {
            "text/plain": [
              "True"
            ]
          },
          "metadata": {},
          "execution_count": 32
        }
      ]
    },
    {
      "cell_type": "code",
      "source": [
        "from nltk.corpus import stopwords\n",
        "from nltk import word_tokenize\n",
        "import string\n",
        "import re\n",
        "import nltk"
      ],
      "metadata": {
        "id": "vF0giAtwc6SW"
      },
      "execution_count": 33,
      "outputs": []
    },
    {
      "cell_type": "code",
      "source": [
        "print(stopwords.words('english'))"
      ],
      "metadata": {
        "colab": {
          "base_uri": "https://localhost:8080/"
        },
        "id": "3Hi630qidCQA",
        "outputId": "d9c19227-5648-43fd-9c4f-0015252af72b"
      },
      "execution_count": 34,
      "outputs": [
        {
          "output_type": "stream",
          "name": "stdout",
          "text": [
            "['i', 'me', 'my', 'myself', 'we', 'our', 'ours', 'ourselves', 'you', \"you're\", \"you've\", \"you'll\", \"you'd\", 'your', 'yours', 'yourself', 'yourselves', 'he', 'him', 'his', 'himself', 'she', \"she's\", 'her', 'hers', 'herself', 'it', \"it's\", 'its', 'itself', 'they', 'them', 'their', 'theirs', 'themselves', 'what', 'which', 'who', 'whom', 'this', 'that', \"that'll\", 'these', 'those', 'am', 'is', 'are', 'was', 'were', 'be', 'been', 'being', 'have', 'has', 'had', 'having', 'do', 'does', 'did', 'doing', 'a', 'an', 'the', 'and', 'but', 'if', 'or', 'because', 'as', 'until', 'while', 'of', 'at', 'by', 'for', 'with', 'about', 'against', 'between', 'into', 'through', 'during', 'before', 'after', 'above', 'below', 'to', 'from', 'up', 'down', 'in', 'out', 'on', 'off', 'over', 'under', 'again', 'further', 'then', 'once', 'here', 'there', 'when', 'where', 'why', 'how', 'all', 'any', 'both', 'each', 'few', 'more', 'most', 'other', 'some', 'such', 'no', 'nor', 'not', 'only', 'own', 'same', 'so', 'than', 'too', 'very', 's', 't', 'can', 'will', 'just', 'don', \"don't\", 'should', \"should've\", 'now', 'd', 'll', 'm', 'o', 're', 've', 'y', 'ain', 'aren', \"aren't\", 'couldn', \"couldn't\", 'didn', \"didn't\", 'doesn', \"doesn't\", 'hadn', \"hadn't\", 'hasn', \"hasn't\", 'haven', \"haven't\", 'isn', \"isn't\", 'ma', 'mightn', \"mightn't\", 'mustn', \"mustn't\", 'needn', \"needn't\", 'shan', \"shan't\", 'shouldn', \"shouldn't\", 'wasn', \"wasn't\", 'weren', \"weren't\", 'won', \"won't\", 'wouldn', \"wouldn't\"]\n"
          ]
        }
      ]
    },
    {
      "cell_type": "code",
      "source": [
        "stop_words = set(stopwords.words('english'))"
      ],
      "metadata": {
        "id": "Gy6puaCRdMEl"
      },
      "execution_count": 35,
      "outputs": []
    },
    {
      "cell_type": "code",
      "source": [
        "data['Comment'] = data['Comment'].str.strip()"
      ],
      "metadata": {
        "id": "mfwvPA2ndaTq"
      },
      "execution_count": 36,
      "outputs": []
    },
    {
      "cell_type": "code",
      "source": [
        "train = data.copy()"
      ],
      "metadata": {
        "id": "A_sY6Yi7dvIS"
      },
      "execution_count": 37,
      "outputs": []
    },
    {
      "cell_type": "code",
      "source": [
        "train['Comment'] = train['Comment'].str.strip()"
      ],
      "metadata": {
        "id": "Q2R8oYCwd4Go"
      },
      "execution_count": 38,
      "outputs": []
    },
    {
      "cell_type": "code",
      "source": [
        "train['Comment'][0]"
      ],
      "metadata": {
        "colab": {
          "base_uri": "https://localhost:8080/",
          "height": 36
        },
        "id": "leT1g6r9ePGF",
        "outputId": "ca605725-a963-493e-c789-b14206b10e97"
      },
      "execution_count": 39,
      "outputs": [
        {
          "output_type": "execute_result",
          "data": {
            "text/plain": [
              "'omg itna sara butter or oil dosto koi mat khana'"
            ],
            "application/vnd.google.colaboratory.intrinsic+json": {
              "type": "string"
            }
          },
          "metadata": {},
          "execution_count": 39
        }
      ]
    },
    {
      "cell_type": "code",
      "source": [
        "def remove_stopwords(line):\n",
        "    word_tokens = word_tokenize(line)\n",
        "    filtered_sentence = [w for w in word_tokens if not w in stop_words]\n",
        "    return \" \".join(filtered_sentence)"
      ],
      "metadata": {
        "id": "7HOMT0uFeZku"
      },
      "execution_count": 40,
      "outputs": []
    },
    {
      "cell_type": "code",
      "source": [
        "data['stop_comments'] = data['Comment'].apply(lambda x : remove_stopwords(x))"
      ],
      "metadata": {
        "id": "YdYJbBdSefbj"
      },
      "execution_count": 41,
      "outputs": []
    },
    {
      "cell_type": "code",
      "source": [
        "data.head()\n"
      ],
      "metadata": {
        "colab": {
          "base_uri": "https://localhost:8080/",
          "height": 206
        },
        "id": "oObdDe5Ne4On",
        "outputId": "b6331a4c-fb8c-4a1d-9bd7-568d64032522"
      },
      "execution_count": 42,
      "outputs": [
        {
          "output_type": "execute_result",
          "data": {
            "text/plain": [
              "         Username                                            Comment  \\\n",
              "0          Sanjay    omg itna sara butter or oil dosto koi mat khana   \n",
              "1    Paresh Patil  best presntatio sanjot seriously yummy best ch...   \n",
              "2  rooney ramwani  aloo- matar bhaji and papad is also served wit...   \n",
              "3   HARSH DALWADI                     gujarati recipe  'patra' banao   \n",
              "4   Shubha Mohite                                             superb   \n",
              "\n",
              "   polarity  pol_cat                                      stop_comments  \n",
              "0  0.000000       -1       omg itna sara butter oil dosto koi mat khana  \n",
              "1  0.555556        1  best presntatio sanjot seriously yummy best ch...  \n",
              "2  0.000000       -1   aloo- matar bhaji papad also served tawa pulao .  \n",
              "3  0.000000       -1                     gujarati recipe 'patra ' banao  \n",
              "4  1.000000        1                                             superb  "
            ],
            "text/html": [
              "\n",
              "  <div id=\"df-072ecc65-6146-46aa-8d44-41f165e9d88a\">\n",
              "    <div class=\"colab-df-container\">\n",
              "      <div>\n",
              "<style scoped>\n",
              "    .dataframe tbody tr th:only-of-type {\n",
              "        vertical-align: middle;\n",
              "    }\n",
              "\n",
              "    .dataframe tbody tr th {\n",
              "        vertical-align: top;\n",
              "    }\n",
              "\n",
              "    .dataframe thead th {\n",
              "        text-align: right;\n",
              "    }\n",
              "</style>\n",
              "<table border=\"1\" class=\"dataframe\">\n",
              "  <thead>\n",
              "    <tr style=\"text-align: right;\">\n",
              "      <th></th>\n",
              "      <th>Username</th>\n",
              "      <th>Comment</th>\n",
              "      <th>polarity</th>\n",
              "      <th>pol_cat</th>\n",
              "      <th>stop_comments</th>\n",
              "    </tr>\n",
              "  </thead>\n",
              "  <tbody>\n",
              "    <tr>\n",
              "      <th>0</th>\n",
              "      <td>Sanjay</td>\n",
              "      <td>omg itna sara butter or oil dosto koi mat khana</td>\n",
              "      <td>0.000000</td>\n",
              "      <td>-1</td>\n",
              "      <td>omg itna sara butter oil dosto koi mat khana</td>\n",
              "    </tr>\n",
              "    <tr>\n",
              "      <th>1</th>\n",
              "      <td>Paresh Patil</td>\n",
              "      <td>best presntatio sanjot seriously yummy best ch...</td>\n",
              "      <td>0.555556</td>\n",
              "      <td>1</td>\n",
              "      <td>best presntatio sanjot seriously yummy best ch...</td>\n",
              "    </tr>\n",
              "    <tr>\n",
              "      <th>2</th>\n",
              "      <td>rooney ramwani</td>\n",
              "      <td>aloo- matar bhaji and papad is also served wit...</td>\n",
              "      <td>0.000000</td>\n",
              "      <td>-1</td>\n",
              "      <td>aloo- matar bhaji papad also served tawa pulao .</td>\n",
              "    </tr>\n",
              "    <tr>\n",
              "      <th>3</th>\n",
              "      <td>HARSH DALWADI</td>\n",
              "      <td>gujarati recipe  'patra' banao</td>\n",
              "      <td>0.000000</td>\n",
              "      <td>-1</td>\n",
              "      <td>gujarati recipe 'patra ' banao</td>\n",
              "    </tr>\n",
              "    <tr>\n",
              "      <th>4</th>\n",
              "      <td>Shubha Mohite</td>\n",
              "      <td>superb</td>\n",
              "      <td>1.000000</td>\n",
              "      <td>1</td>\n",
              "      <td>superb</td>\n",
              "    </tr>\n",
              "  </tbody>\n",
              "</table>\n",
              "</div>\n",
              "      <button class=\"colab-df-convert\" onclick=\"convertToInteractive('df-072ecc65-6146-46aa-8d44-41f165e9d88a')\"\n",
              "              title=\"Convert this dataframe to an interactive table.\"\n",
              "              style=\"display:none;\">\n",
              "        \n",
              "  <svg xmlns=\"http://www.w3.org/2000/svg\" height=\"24px\"viewBox=\"0 0 24 24\"\n",
              "       width=\"24px\">\n",
              "    <path d=\"M0 0h24v24H0V0z\" fill=\"none\"/>\n",
              "    <path d=\"M18.56 5.44l.94 2.06.94-2.06 2.06-.94-2.06-.94-.94-2.06-.94 2.06-2.06.94zm-11 1L8.5 8.5l.94-2.06 2.06-.94-2.06-.94L8.5 2.5l-.94 2.06-2.06.94zm10 10l.94 2.06.94-2.06 2.06-.94-2.06-.94-.94-2.06-.94 2.06-2.06.94z\"/><path d=\"M17.41 7.96l-1.37-1.37c-.4-.4-.92-.59-1.43-.59-.52 0-1.04.2-1.43.59L10.3 9.45l-7.72 7.72c-.78.78-.78 2.05 0 2.83L4 21.41c.39.39.9.59 1.41.59.51 0 1.02-.2 1.41-.59l7.78-7.78 2.81-2.81c.8-.78.8-2.07 0-2.86zM5.41 20L4 18.59l7.72-7.72 1.47 1.35L5.41 20z\"/>\n",
              "  </svg>\n",
              "      </button>\n",
              "      \n",
              "  <style>\n",
              "    .colab-df-container {\n",
              "      display:flex;\n",
              "      flex-wrap:wrap;\n",
              "      gap: 12px;\n",
              "    }\n",
              "\n",
              "    .colab-df-convert {\n",
              "      background-color: #E8F0FE;\n",
              "      border: none;\n",
              "      border-radius: 50%;\n",
              "      cursor: pointer;\n",
              "      display: none;\n",
              "      fill: #1967D2;\n",
              "      height: 32px;\n",
              "      padding: 0 0 0 0;\n",
              "      width: 32px;\n",
              "    }\n",
              "\n",
              "    .colab-df-convert:hover {\n",
              "      background-color: #E2EBFA;\n",
              "      box-shadow: 0px 1px 2px rgba(60, 64, 67, 0.3), 0px 1px 3px 1px rgba(60, 64, 67, 0.15);\n",
              "      fill: #174EA6;\n",
              "    }\n",
              "\n",
              "    [theme=dark] .colab-df-convert {\n",
              "      background-color: #3B4455;\n",
              "      fill: #D2E3FC;\n",
              "    }\n",
              "\n",
              "    [theme=dark] .colab-df-convert:hover {\n",
              "      background-color: #434B5C;\n",
              "      box-shadow: 0px 1px 3px 1px rgba(0, 0, 0, 0.15);\n",
              "      filter: drop-shadow(0px 1px 2px rgba(0, 0, 0, 0.3));\n",
              "      fill: #FFFFFF;\n",
              "    }\n",
              "  </style>\n",
              "\n",
              "      <script>\n",
              "        const buttonEl =\n",
              "          document.querySelector('#df-072ecc65-6146-46aa-8d44-41f165e9d88a button.colab-df-convert');\n",
              "        buttonEl.style.display =\n",
              "          google.colab.kernel.accessAllowed ? 'block' : 'none';\n",
              "\n",
              "        async function convertToInteractive(key) {\n",
              "          const element = document.querySelector('#df-072ecc65-6146-46aa-8d44-41f165e9d88a');\n",
              "          const dataTable =\n",
              "            await google.colab.kernel.invokeFunction('convertToInteractive',\n",
              "                                                     [key], {});\n",
              "          if (!dataTable) return;\n",
              "\n",
              "          const docLinkHtml = 'Like what you see? Visit the ' +\n",
              "            '<a target=\"_blank\" href=https://colab.research.google.com/notebooks/data_table.ipynb>data table notebook</a>'\n",
              "            + ' to learn more about interactive tables.';\n",
              "          element.innerHTML = '';\n",
              "          dataTable['output_type'] = 'display_data';\n",
              "          await google.colab.output.renderOutput(dataTable, element);\n",
              "          const docLink = document.createElement('div');\n",
              "          docLink.innerHTML = docLinkHtml;\n",
              "          element.appendChild(docLink);\n",
              "        }\n",
              "      </script>\n",
              "    </div>\n",
              "  </div>\n",
              "  "
            ]
          },
          "metadata": {},
          "execution_count": 42
        }
      ]
    },
    {
      "cell_type": "code",
      "source": [
        "from sklearn.model_selection import train_test_split"
      ],
      "metadata": {
        "id": "FiUpY42Ee9Xw"
      },
      "execution_count": 43,
      "outputs": []
    },
    {
      "cell_type": "code",
      "source": [
        "X_train,X_test,y_train,y_test = train_test_split(data['stop_comments'],data['pol_cat'],test_size = 0.2,random_state = 324)"
      ],
      "metadata": {
        "id": "RuN_nH4FfC5G"
      },
      "execution_count": 44,
      "outputs": []
    },
    {
      "cell_type": "code",
      "source": [
        "X_train.shape"
      ],
      "metadata": {
        "colab": {
          "base_uri": "https://localhost:8080/"
        },
        "id": "Zv3auGZ6fG7S",
        "outputId": "414d0461-b445-43ec-99a7-a96950f409d5"
      },
      "execution_count": 45,
      "outputs": [
        {
          "output_type": "execute_result",
          "data": {
            "text/plain": [
              "(444,)"
            ]
          },
          "metadata": {},
          "execution_count": 45
        }
      ]
    },
    {
      "cell_type": "code",
      "source": [
        "X_test.shape"
      ],
      "metadata": {
        "colab": {
          "base_uri": "https://localhost:8080/"
        },
        "id": "YTc6-YxNfKJK",
        "outputId": "5a592a72-04c2-4ca0-94fd-52df743a72cc"
      },
      "execution_count": 46,
      "outputs": [
        {
          "output_type": "execute_result",
          "data": {
            "text/plain": [
              "(112,)"
            ]
          },
          "metadata": {},
          "execution_count": 46
        }
      ]
    },
    {
      "cell_type": "code",
      "source": [
        "data['pol_cat'].value_counts()"
      ],
      "metadata": {
        "colab": {
          "base_uri": "https://localhost:8080/"
        },
        "id": "ZeyLuv4bfNqZ",
        "outputId": "0aaf037c-a391-4877-8892-defd3cdf5507"
      },
      "execution_count": 47,
      "outputs": [
        {
          "output_type": "execute_result",
          "data": {
            "text/plain": [
              " 1    308\n",
              "-1    248\n",
              "Name: pol_cat, dtype: int64"
            ]
          },
          "metadata": {},
          "execution_count": 47
        }
      ]
    },
    {
      "cell_type": "code",
      "source": [
        "from sklearn.feature_extraction.text import CountVectorizer"
      ],
      "metadata": {
        "id": "nuzgUvX1fR9W"
      },
      "execution_count": 48,
      "outputs": []
    },
    {
      "cell_type": "code",
      "source": [
        "from sklearn.feature_extraction.text import CountVectorizer, TfidfVectorizer \n",
        "vect = CountVectorizer()\n",
        "tf_train = vect.fit_transform(X_train)\n",
        "tf_test = vect.transform(X_test)"
      ],
      "metadata": {
        "id": "7dr5S1pmfkZ5"
      },
      "execution_count": 49,
      "outputs": []
    },
    {
      "cell_type": "code",
      "source": [
        "print(vect.vocabulary_)"
      ],
      "metadata": {
        "colab": {
          "base_uri": "https://localhost:8080/"
        },
        "id": "M3hijCBzfqeA",
        "outputId": "8d253853-c269-4b8f-a092-2f21f3f74192"
      },
      "execution_count": 50,
      "outputs": [
        {
          "output_type": "stream",
          "name": "stdout",
          "text": [
            "{'khtrnak': 482, 'pulau': 738, 'wow': 1060, 'tasty': 935, 'dada': 222, 'nice': 645, 'looks': 549, 'delicious': 246, 'soon': 880, 'cook': 208, 'family': 307, 'also': 37, 'tried': 979, 'yfl': 1074, 'style': 908, 'punjabi': 742, 'kadi': 446, 'pakoda': 679, 'really': 769, 'amaaaazing': 40, 'thanks': 952, 'lot': 550, 'chef': 177, 'tava': 936, 'pulav': 739, 'taste': 934, 'till': 970, 'made': 558, 'came': 160, 'looked': 547, 'exactly': 297, 'video': 1022, 'enjoyed': 285, 'much': 617, 'one': 662, 'recipe': 778, 'aap': 6, 'ka': 445, 'tawa': 937, 'kaun': 466, 'sa': 805, 'brand': 142, 'hai': 360, 'apk': 48, 'hi': 378, 'btaye': 150, 'huve': 402, 'recipes': 780, 'try': 982, 'krti': 507, 'hu': 398, 'bilkul': 124, 'perfect': 700, 'bnte': 134, 'abb': 13, 'tarif': 931, 'krte': 506, 'marry': 577, 'bcoz': 105, 'want': 1034, 'someone': 876, 'always': 39, 'favourite': 314, 'food': 322, 'channel': 172, 'love': 552, 'make': 566, 'home': 388, 'everyone': 293, 'loves': 555, 'yummy': 1081, 'thank': 951, 'posting': 723, 'beautiful': 108, 'experiment': 300, 'special': 886, 'sharing': 844, 'god': 344, 'bless': 129, 'red': 787, 'color': 197, 'pulao': 737, 'plus': 715, 'spicy': 890, 'reason': 770, 'dirty': 263, 'wit': 1050, 'ur': 1002, 'cooking': 210, 'amazing': 41, 'dekh': 238, 'kar': 455, 'munh': 623, 'pe': 696, 'paani': 673, 'aa': 3, 'raha': 754, 'simple': 860, 'best': 111, 'sir': 864, 'share': 843, 'raita': 760, 'hey': 377, 'brownie': 147, 'paw': 694, 'vaji': 1010, 'masala': 579, 'raceipe': 750, 'yummmy': 1080, 'awesome': 68, 'happiness': 365, 'get': 335, 'notification': 652, 'new': 642, 'subscriber': 909, 'means': 589, 'alot': 35, 'us': 1003, 'please': 710, 'first': 316, 'view': 1024, 'osm': 670, 'pulaw': 740, 'fabulous': 305, 'bought': 140, 'kashmiri': 465, 'veg': 1015, 'goli': 346, 'vada': 1009, 'pav': 693, 'bhi': 119, 'banake': 86, 'dikhao': 258, 'yaar': 1064, 'many': 573, 'bombay': 138, 'dum': 275, 'biryani': 127, 'exact': 296, 'reveal': 795, 'authentic': 64, 'muslim': 628, 'pleeeeeaaaaasssse': 711, 'wah': 1029, 'street': 905, 'recipee': 779, 'sanjyot': 820, 'videos': 1023, 'brings': 145, 'smile': 872, 'gives': 341, 'inner': 414, 'peace': 697, 'atleast': 60, 'making': 568, 'wish': 1049, 'meet': 591, 'life': 533, 'lots': 551, 'turned': 988, 'never': 641, 'taking': 926, 'interest': 420, 'dishes': 269, 'turning': 989, 'yum': 1077, 'team': 940, 'tempting': 944, 'yammy': 1067, 'apka': 49, 'fan': 308, 'bhai': 115, 'mai': 562, 'superb': 917, 'rcp': 763, 'good': 348, 'shown': 853, 'plz': 716, 'gujarat': 356, 'thali': 950, 'dont': 273, 'understand': 995, 'invest': 421, 'sela': 833, 'rice': 797, 'soak': 875, 'time': 971, 'longer': 545, 'way': 1041, 'hit': 383, 'yumm': 1078, 'maharashtrian': 561, 'bhat': 118, 'super': 916, 'cool': 211, 'favorite': 313, 'watching': 1037, 'past': 687, 'midnight': 601, 'raining': 758, 'outside': 671, 'mouth': 615, 'watering': 1039, 'ca': 158, 'sleep': 869, 'could': 213, 'dish': 268, 'right': 798, 'away': 67, 'ye': 1068, 'bohat': 135, 'achha': 19, 'banaya': 91, 'apne': 52, 'sach': 810, 'unhealthy': 997, 'jyada': 444, 'batter': 102, 'tel': 942, 'aur': 63, 'masale': 580, 'vala': 1011, 'hota': 394, 'apke': 50, 'sabhi': 807, 'ghar': 338, 'par': 683, 'banao': 88, 'ya': 1063, 'bahar': 77, 'se': 827, 'lao': 519, 'jo': 441, 'jarurat': 436, 'wo': 1052, 'unhethy': 998, 'hoga': 386, 'sorry': 883, 'muje': 619, 'apse': 54, 'koy': 505, 'sikayat': 857, 'nahi': 632, 'fir': 315, 'bola': 136, 'bhaji': 116, 'thela': 956, 'item': 424, 'plsss': 713, 'tell': 943, 'substitute': 910, 'jains': 431, 'add': 22, 'wanted': 1035, 'eat': 278, 'monsoon': 613, 'gon': 347, 'na': 631, 'killed': 488, 'hmmm': 384, 'ok': 657, 'marks': 575, 'extra': 304, 'camera': 161, 'person': 701, 'next': 643, 'opportunity': 666, 'studio': 907, 'testy': 947, 'day': 230, 'posted': 722, 'lit': 538, 'added': 23, 'paneer': 680, 'babycorn': 73, 'mushroom': 626, 'tested': 946, 'like': 534, 'heven': 376, 'sanju': 819, 'anna': 43, 'pls': 712, 'healthy': 369, 'kids': 486, 'dear': 233, 'ji': 440, 'receipes': 773, 'say': 825, 'cz': 220, 'know': 499, 'married': 576, 'ice': 403, 'cream': 215, 'receipe': 771, 'lovely': 554, 'wife': 1045, 'kitchen': 494, 'vessels': 1021, 'background': 75, 'music': 627, 'voice': 1028, 'explained': 303, 'method': 600, 'step': 897, 'talking': 928, 'loved': 553, 'delish': 248, 'cameraman': 162, 'thinking': 959, 'bcz': 106, 'bro': 146, 'bhut': 122, 'bdhiya': 107, 'bne': 132, 'kanda': 454, 'bajiya': 81, 'season': 829, 'look': 546, 'defintly': 236, 'jain': 430, 'version': 1020, 'pesto': 703, 'pasta': 688, 'perfecf': 699, 'hindi': 381, 'caption': 163, 'mein': 593, 'spelling': 887, 'correct': 212, 'karlo': 457, 'btw': 151, 've': 1013, 'already': 36, 'aaj': 5, 'prepare': 730, 'tomorrow': 973, 'checked': 176, 'non': 647, 'playlist': 709, 'afghani': 26, 'chicken': 180, 'would': 1059, 'see': 830, 'thankyou': 954, 'haldi': 362, 'dali': 228, 'jaati': 428, 'important': 407, 'question': 747, 'king': 490, 'need': 640, 'mastta': 583, 'kaha': 447, 'leya': 531, 'kee': 471, 'great': 351, 'quality': 746, 'fantastic': 309, 'entertaining': 286, 'keer': 473, 'abhi': 14, 'jast': 437, 'maine': 564, 'recepie': 775, 'search': 828, 'ki': 485, 'apki': 51, 'samne': 815, 'quick': 748, 'easy': 277, 'big': 123, 'explain': 302, 'everything': 294, 'clearly': 195, 'understandable': 996, 'kepsa': 475, 'banate': 89, 'ho': 385, 'woh': 1053, 'khate': 480, 'wowwww': 1061, 'sirji': 865, 'give': 340, 'tiffin': 965, 'ideas': 405, 'vegetable': 1016, 'kisi': 493, 'form': 325, 'men': 595, 'hon': 389, 'tarha': 930, 'juicy': 443, 'pasand': 686, 'hen': 374, 'mujhe': 620, 'recipy': 784, 'hame': 364, 'singapuri': 863, 'fried': 329, 'sikhaye': 859, 'hamare': 363, 'yaha': 1065, 'restaurant': 793, 'milti': 604, 'aisi': 32, 'yami': 1066, 'lag': 513, 'sar': 821, 'aapka': 7, 'bahot': 78, 'acha': 17, 'iske': 423, 'bareme': 95, 'bataiye': 100, 'kahase': 449, 'kharida': 479, 'classic': 193, 'jealous': 439, 'makes': 567, 're': 764, 'stop': 902, 'trylove': 984, 'colour': 198, 'omg': 660, 'yet': 1073, 'effective': 280, 'ke': 469, 'sath': 824, 'chatney': 173, 'bonus': 139, 'definitely': 235, 'fond': 321, 'memories': 594, 'bhagwati': 114, 'comes': 202, 'surfing': 923, 'nostalgia': 650, 'use': 1004, 'place': 706, 'lal': 518, 'mirch': 607, 'chutney': 190, 'fresh': 328, 'chilli': 185, 'powder': 725, 'selling': 834, 'brands': 143, 'basmati': 98, 'reply': 789, 'excellent': 298, 'different': 257, 'kind': 489, 'simply': 862, 'eating': 279, 'hostel': 391, 'khana': 477, 'looking': 548, 'qt': 745, 'aisehi': 31, 'aate': 10, 'rahe': 755, '5m': 2, 'thoda': 962, 'jaldi': 432, 'jayega': 438, 'aisa': 30, 'lagta': 516, 'mereko': 597, 'matter': 586, 'smaller': 870, 'days': 231, 'stored': 904, 'garlic': 332, 'udit': 994, 'dal': 225, 'udin': 993, 'plzz': 717, 'bnno': 133, 'shelf': 846, 'frm': 330, 'chennai': 178, 'sanjayot': 817, 'show': 850, 'chakli': 167, 'snack': 873, 'sab': 806, 'sika': 856, 'word': 1056, 'aaaaaahhhhhaaaaaaa': 4, 'coking': 196, 'asowme': 59, 'tq': 978, 'bangalore': 92, 'started': 895, 'cravings': 214, 'meanwhile': 590, 'maggi': 559, 'packets': 674, 'got': 350, 'room': 803, 'virtually': 1026, 'trying': 983, 'garlicky': 333, 'parcel': 684, 'service': 840, 'test': 945, 'reacip': 765, 'marvelous': 578, 'pualo': 736, 'supppppperrrrr': 919, 'aapke': 8, 'upar': 1001, 'annapurna': 44, 'maa': 557, 'kirpa': 492, 'genuine': 334, 'comments': 204, 'fruits': 331, 'sandwich': 816, '2nd': 1, 'll': 542, 'done': 272, 'bt': 148, 'suggestion': 911, 'tiffen': 964, 'liye': 541, 'kuch': 508, 'vedio': 1014, 'dala': 226, 'trueing': 981, 'help': 373, 'monther': 614, 'absolutely': 16, 'recipies': 783, 'today': 972, 'son': 878, 'link': 537, 'asmr': 58, 'pune': 741, 'beetroot': 109, 'mixer': 611, 'grinder': 352, 'resapi': 791, 'lay': 523, 'chip': 188, 'kaise': 450, 'nate': 636, 'duper': 276, 'nd': 637, 'pp': 726, 'caution': 165, 'inflammatory': 412, 'bowel': 141, 'disease': 267, 'personal': 702, 'experience': 299, 'totally': 977, 'rock': 800, 'buy': 155, 'delight': 247, 'watch': 1036, 'hii': 380, 'paste': 689, 'huge': 399, 'difference': 256, 'spot': 891, 'mumbaistreetstyle': 622, 'ages': 27, 'ago': 29, 'back': 74, 'thinks': 960, 'haha': 359, 'follow': 318, 'crispy': 218, 'shadiyo': 841, 'wali': 1032, 'jalebi': 433, 'plssssssss': 714, 'shekhar': 845, 'per': 698, 'banai': 83, '100': 0, 'bani': 93, 'pure': 744, 'credit': 217, 'karne': 459, 'liya': 540, 'delecious': 245, 'too': 975, 'mast': 582, 'ne': 638, 'order': 668, 'kiya': 498, 'fast': 310, 'cast': 164, 'iron': 422, 'skillet': 867, 'wok': 1054, 'provide': 735, 'high': 379, 'heat': 370, 'available': 65, 'hello': 372, 'main': 563, 'sare': 823, 'dekhti': 244, 'hun': 400, 'bahut': 79, 'hain': 361, 'expiration': 301, 'milati': 603, 'pahadi': 677, 'tikka': 967, 'esselamu': 289, 'aleyküm': 33, 'merhaba': 598, 'bayramınız': 103, 'kutlu': 510, 'olsun': 659, 'ymmi': 1075, 'likes': 536, 'types': 991, 'achijha': 21, 'inspired': 416, 'sooo': 881, 'forgot': 324, 'ingredient': 413, 'distinct': 270, 'wan': 1033, 'chillies': 186, 'join': 442, 'changezi': 171, 'racipe': 751, 'kya': 511, 'baat': 72, 'purchase': 743, 'tha': 948, 'name': 635, 'hindu': 382, 'onion': 663, 'faviorite': 312, 'process': 732, 'children': 183, 'certainly': 166, 'muze': 630, 'lagata': 515, 'bhohot': 120, 'tika': 966, 'let': 527, 'vegeterian': 1017, 'kebab': 470, 'served': 839, 'suparb': 915, 'mutton': 629, 'koftas': 502, 'changazi': 169, 'enjoy': 284, 'fav': 311, 'sure': 921, 'recepi': 774, 'besttt': 112, 'mesmerizing': 599, 'mind': 605, 'ko': 501, 'promote': 733, 'karte': 461, 'chili': 184, 'noodles': 648, 'miso': 608, 'potato': 724, 'starch': 893, 'sticky': 899, 'kum': 509, 'zyada': 1083, 'rahi': 757, 'chan': 168, 'oh': 655, 'im': 406, 'ready': 768, 'open': 665, 'theela': 955, 'aapki': 9, 'hoti': 395, 'thnx': 961, 'karna': 458, 'rocks': 801, 'wil': 1047, 'hatts': 368, 'happy': 366, 'plan': 707, 'apaki': 47, 'banati': 90, 'sabko': 809, 'pansad': 681, 'aati': 11, 'achhe': 20, 'tarike': 932, 'dikhate': 259, 'thanku': 953, 'online': 664, 'class': 192, 'lete': 528, 'awsome': 69, 'mera': 596, 'laxmi': 522, 'rasoi': 761, 'mehnat': 592, 'dalti': 229, 'si': 855, 'nahin': 633, 'ek': 282, 'bar': 94, 'dekhen': 241, 'bataen': 99, 'kahan': 448, 'kami': 452, 'yummm': 1079, 'hoi': 387, 'pooaj': 719, 'es': 287, 'ghappa': 337, 'khichri': 481, 'bna': 131, 'di': 255, 'asli': 57, 'https': 397, 'www': 1062, 'youtube': 1076, 'com': 199, 'c0befr': 157, 'wmi4': 1051, 'shev': 847, 'rainy': 759, 'send': 835, 'soo': 879, 'murg': 624, 'musalam': 625, 'bina': 125, 'bana': 82, 'sakte': 811, 'teach': 939, 'salads': 813, 'waiting': 1030, 'guests': 354, 'come': 201, 'serve': 838, 'detailed': 252, 'instructions': 419, 'mouthwatering': 616, 'option': 667, 'mumbai': 621, 'bai': 80, 'kamal': 451, 'karthiya': 462, 'dinner': 261, 'loving': 556, 'sunday': 914, 'missing': 609, 'yes': 1071, 'quite': 749, 'hot': 393, 'summer': 913, 'mom': 612, 'usually': 1007, 'ask': 56, 'recognise': 785, 'gift': 339, 'read': 767, 'another': 45, 'waw': 1040, 'resipi': 792, 'chikan': 182, 'tripal': 980, 'raeis': 753, 'chatni': 174, 'sheyr': 848, 'kijiye': 487, 'nhi': 644, 'dekhege': 240, 'jab': 429, 'te': 938, 'bhukh': 121, 'lagti': 517, 'khane': 478, 'baad': 71, 'top': 976, 'notch': 651, 'dekhne': 243, 'khud': 483, 'rok': 802, 'payi': 695, 'chief': 181, 'amritsari': 42, 'tikkai': 968, 'sanjot': 818, 'chillis': 187, 'recommendation': 786, 'minimize': 606, 'racipee': 752, 'students': 906, 'little': 539, 'bit': 128, 'adjust': 25, 'spice': 888, 'butter': 154, 'overall': 672, 'tonight': 974, 'aloo': 34, 'matar': 585, 'papad': 682, 'planet': 708, 'yearly': 1070, 'parmatma': 685, 'combination': 200, 'husbands': 401, 'reaction': 766, 'possible': 720, 'bye': 156, 'showed': 851, 'page': 676, 'deily': 237, 'guidance': 355, 'spysi': 892, 'learnt': 525, 'store': 903, 'kitna': 496, 'din': 260, 'rahegi': 756, 'alternative': 38, 'unke': 999, 'layered': 524, 'japnese': 434, 'korean': 504, 'marathi': 574, 'including': 408, 'sabji': 808, 'daily': 224, 'breakfast': 144, 'pl': 705, 'ab': 12, 'chuki': 189, 'de': 232, 'buk': 152, 'lg': 532, 'rhi': 796, 'nam': 634, 'bolakar': 137, 'maja': 565, 'ayaga': 70, 'dekhna': 242, 'something': 877, 'legends': 526, 'reuploaded': 794, 'bche': 104, 'mazedar': 588, 'recipi': 781, 'btaiye': 149, 'tryyour': 985, 'salt': 814, 'kitne': 497, 'followed': 319, 'tandoori': 929, 'salad': 812, 'tikkas': 969, 'stinky': 901, 'throw': 963, 'donate': 271, 'location': 543, 'post': 721, 'snacks': 874, 'evening': 291, 'inspiring': 417, 'forward': 326, 'itna': 425, 'sara': 822, 'oil': 656, 'dosto': 274, 'koi': 503, 'mat': 584, 'disclaimer': 266, 'hostelers': 392, 'recipie': 782, 'night': 646, 'able': 15, 'सर': 1094, 'धड': 1089, 'रह': 1092, 'competition': 205, 'yesterday': 1072, 'instead': 418, 'used': 1005, 'stay': 896, 'blessed': 130, 'pic': 704, 'letting': 529, 'wonderful': 1055, 'batao': 101, 'teasty': 941, 'cinematographer': 191, 'shows': 854, 'might': 602, 'untill': 1000, 'whenever': 1044, 'cooked': 209, 'seeing': 831, 'ever': 292, 'disappointed': 264, 'shifted': 849, 'disaster': 265, 'roots': 804, 'proud': 734, 'honest': 390, 'viewer': 1025, 'khadi': 476, 'change': 170, 'mauth': 587, 'jarur': 435, 'karungi': 464, 'kaunsi': 468, 'app': 53, 'work': 1057, 'incredibly': 410, 'hard': 367, 'hence': 375, 'incredible': 409, 'mashaallah': 581, 'showing': 852, 'details': 253, 'dahi': 223, 'wale': 1031, 'recip': 777, 'malai': 569, 'mithai': 610, 'banaiye': 84, 'heavenly': 371, 'gooood': 349, 'soper': 882, 'delisious': 249, 'website': 1042, 'anyone': 46, 'knows': 500, 'basanti': 97, 'obviously': 653, 'still': 900, 'skills': 868, 'wise': 1048, 'seen': 832, 'spicess': 889, 'curry': 219, 'type': 990, 'variety': 1012, 'veggies': 1018, 'ha': 358, 'mane': 572, 'dekha': 239, 'laga': 514, 'liked': 535, 'inspire': 415, 'create': 216, 'supurbb': 920, 'bartan': 96, 'keep': 472, 'flavour': 317, 'commendable': 203, 'pajji': 678, 'tuhada': 986, 'ghaint': 336, 'kehre': 474, 'da': 221, 'eh': 281, 'kinne': 491, 'aunda': 62, 'awaited': 66, 'encouraging': 283, 'giving': 342, 'confidence': 207, 'house': 396, 'wifes': 1046, 'dedication': 234, 'जव': 1087, 'chatpat': 175, 'everytime': 295, 'water': 1038, 'reciepies': 776, 'tarrii': 933, 'fr': 327, 'take': 925, 'normal': 649, 'dhaba': 254, 'indian': 411, 'ladies': 512, 'guest': 353, 'go': 343, 'following': 320, 'long': 544, 'request': 790, 'pad': 675, 'thai': 949, 'simplified': 861, 'patavad': 691, 'rass': 762, 'utensils': 1008, 'area': 55, 'clean': 194, 'neat': 639, 'preparation': 729, 'its': 426, 'well': 1043, 'surely': 922, 'once': 661, 'sujatha': 912, 'prahalada': 727, 'occasion': 654, 'sister': 866, 'birthday': 126, 'believe': 110, 'iw': 427, 'vendors': 1019, 'uae': 992, 'muglai': 618, 'dint': 262, 'turn': 987, 'khup': 484, 'bhari': 117, 'beta': 113, 'kaunsa': 467, 'dena': 251, 'badhiya': 76, 'zam': 1082, 'using': 1006, 'last': 521, 'year': 1069, 'think': 958, 'talk': 927, 'things': 957, 'even': 290, 'stare': 894, 'screen': 826, 'attention': 61, 'complete': 206, 'senses': 836, 'smell': 871, 'magic': 560, 'kitchens': 495, 'redo': 788, 'going': 345, 'plzzzzz': 718, 'den': 250, 'chhorh': 179, 'gujarati': 357, 'patra': 692, 'fafda': 306, 'बह': 1091, 'बन': 1090, 'तव': 1088, 'और': 1085, 'लहसन': 1093, 'चटण': 1086, 'visited': 1027, 'cafe': 159, 'ordered': 669, 'spaghetti': 885, 'aglio': 28, 'olio': 658, 'forget': 323, 'shar': 842, 'karo': 460, 'dalcha': 227, 'manchow': 571, 'soup': 884, 'premix': 728, 'banana': 87, 'sikha': 858, 'riplay': 799, 'presntatio': 731, 'seriously': 837, 'world': 1058, 'receipee': 772, 'especially': 288, 'idea': 404, 'adding': 24, 'lasoon': 520, 'mana': 570, 'achcha': 18, 'stick': 898, 'banakar': 85, 'taiyar': 924, 'karti': 463, 'pata': 690, 'kamiyan': 453, 'bus': 153, 'support': 918, 'karen': 456, 'अच': 1084, 'level': 530}\n"
          ]
        }
      ]
    },
    {
      "cell_type": "code",
      "source": [
        "vocab = vect.vocabulary_"
      ],
      "metadata": {
        "id": "2gz-VMlFf5Qk"
      },
      "execution_count": 51,
      "outputs": []
    },
    {
      "cell_type": "code",
      "source": [
        "from sklearn.linear_model import LogisticRegression\n",
        "lr = LogisticRegression()\n",
        "lr.fit(tf_train,y_train)"
      ],
      "metadata": {
        "colab": {
          "base_uri": "https://localhost:8080/"
        },
        "id": "XHFqMoYAF2Ec",
        "outputId": "4b2a3766-d96f-48e8-a979-bf2694cce8e4"
      },
      "execution_count": 52,
      "outputs": [
        {
          "output_type": "execute_result",
          "data": {
            "text/plain": [
              "LogisticRegression()"
            ]
          },
          "metadata": {},
          "execution_count": 52
        }
      ]
    },
    {
      "cell_type": "code",
      "source": [
        "lr.score(tf_train,y_train)"
      ],
      "metadata": {
        "colab": {
          "base_uri": "https://localhost:8080/"
        },
        "id": "zOq9R-t7oaP_",
        "outputId": "b5d6ded2-932b-4ccc-975f-eea213408da0"
      },
      "execution_count": 53,
      "outputs": [
        {
          "output_type": "execute_result",
          "data": {
            "text/plain": [
              "0.9932432432432432"
            ]
          },
          "metadata": {},
          "execution_count": 53
        }
      ]
    },
    {
      "cell_type": "code",
      "source": [
        "lr.score(tf_test,y_test)"
      ],
      "metadata": {
        "colab": {
          "base_uri": "https://localhost:8080/"
        },
        "id": "RIdaYeBGqXUr",
        "outputId": "44d6141f-17c3-4ebd-aa19-02dd703883fe"
      },
      "execution_count": 54,
      "outputs": [
        {
          "output_type": "execute_result",
          "data": {
            "text/plain": [
              "0.8660714285714286"
            ]
          },
          "metadata": {},
          "execution_count": 54
        }
      ]
    },
    {
      "cell_type": "code",
      "source": [
        "expected = y_test\n",
        "predicted = lr.predict(tf_test)"
      ],
      "metadata": {
        "id": "wJ3w42KKqdQZ"
      },
      "execution_count": 55,
      "outputs": []
    },
    {
      "cell_type": "code",
      "source": [
        "from mlxtend.plotting import plot_confusion_matrix\n",
        "import matplotlib.pyplot as plt\n",
        "import numpy as np"
      ],
      "metadata": {
        "id": "14VL-pCeqhV3"
      },
      "execution_count": 56,
      "outputs": []
    },
    {
      "cell_type": "code",
      "source": [
        "pip install mlxtend"
      ],
      "metadata": {
        "colab": {
          "base_uri": "https://localhost:8080/"
        },
        "id": "NEk9M6N4qk2d",
        "outputId": "535d5d8a-98e4-4511-a6ff-e6181795cd31"
      },
      "execution_count": 57,
      "outputs": [
        {
          "output_type": "stream",
          "name": "stdout",
          "text": [
            "Looking in indexes: https://pypi.org/simple, https://us-python.pkg.dev/colab-wheels/public/simple/\n",
            "Requirement already satisfied: mlxtend in /usr/local/lib/python3.7/dist-packages (0.14.0)\n",
            "Requirement already satisfied: setuptools in /usr/local/lib/python3.7/dist-packages (from mlxtend) (57.4.0)\n",
            "Requirement already satisfied: scikit-learn>=0.18 in /usr/local/lib/python3.7/dist-packages (from mlxtend) (1.0.2)\n",
            "Requirement already satisfied: matplotlib>=1.5.1 in /usr/local/lib/python3.7/dist-packages (from mlxtend) (3.2.2)\n",
            "Requirement already satisfied: pandas>=0.17.1 in /usr/local/lib/python3.7/dist-packages (from mlxtend) (1.3.5)\n",
            "Requirement already satisfied: numpy>=1.10.4 in /usr/local/lib/python3.7/dist-packages (from mlxtend) (1.21.6)\n",
            "Requirement already satisfied: scipy>=0.17 in /usr/local/lib/python3.7/dist-packages (from mlxtend) (1.7.3)\n",
            "Requirement already satisfied: python-dateutil>=2.1 in /usr/local/lib/python3.7/dist-packages (from matplotlib>=1.5.1->mlxtend) (2.8.2)\n",
            "Requirement already satisfied: cycler>=0.10 in /usr/local/lib/python3.7/dist-packages (from matplotlib>=1.5.1->mlxtend) (0.11.0)\n",
            "Requirement already satisfied: kiwisolver>=1.0.1 in /usr/local/lib/python3.7/dist-packages (from matplotlib>=1.5.1->mlxtend) (1.4.4)\n",
            "Requirement already satisfied: pyparsing!=2.0.4,!=2.1.2,!=2.1.6,>=2.0.1 in /usr/local/lib/python3.7/dist-packages (from matplotlib>=1.5.1->mlxtend) (3.0.9)\n",
            "Requirement already satisfied: typing-extensions in /usr/local/lib/python3.7/dist-packages (from kiwisolver>=1.0.1->matplotlib>=1.5.1->mlxtend) (4.1.1)\n",
            "Requirement already satisfied: pytz>=2017.3 in /usr/local/lib/python3.7/dist-packages (from pandas>=0.17.1->mlxtend) (2022.5)\n",
            "Requirement already satisfied: six>=1.5 in /usr/local/lib/python3.7/dist-packages (from python-dateutil>=2.1->matplotlib>=1.5.1->mlxtend) (1.15.0)\n",
            "Requirement already satisfied: threadpoolctl>=2.0.0 in /usr/local/lib/python3.7/dist-packages (from scikit-learn>=0.18->mlxtend) (3.1.0)\n",
            "Requirement already satisfied: joblib>=0.11 in /usr/local/lib/python3.7/dist-packages (from scikit-learn>=0.18->mlxtend) (1.2.0)\n"
          ]
        }
      ]
    },
    {
      "cell_type": "code",
      "source": [
        "cf = metrics.confusion_matrix(expected,predicted,labels = [1,-1])\n",
        "print(cf)\n",
        "## this command is only for google collab \n",
        "## in the below figure \" 1 is actually showing -1 and 0 is actually showing 1\"\n",
        "fig, ax = plot_confusion_matrix(conf_mat = cf)\n",
        "                                \n",
        "## It canbe used in any platform\n",
        "# fig, ax = plot_confusion_matrix(conf_mat = cf, class_names = [1,-1])\n",
        "plt.show()"
      ],
      "metadata": {
        "colab": {
          "base_uri": "https://localhost:8080/",
          "height": 314
        },
        "id": "oxYkA-lGqqFA",
        "outputId": "a49e1ca0-aa96-4559-ec72-37652ec0f48a"
      },
      "execution_count": 58,
      "outputs": [
        {
          "output_type": "stream",
          "name": "stdout",
          "text": [
            "[[46 11]\n",
            " [ 4 51]]\n"
          ]
        },
        {
          "output_type": "display_data",
          "data": {
            "text/plain": [
              "<Figure size 432x288 with 1 Axes>"
            ],
            "image/png": "[encoded data removed]"
          },
          "metadata": {
            "needs_background": "light"
          }
        }
      ]
    },
    {
      "cell_type": "code",
      "source": [
        "from sklearn import metrics\n",
        "print(metrics.classification_report(expected, predicted))\n",
        "# print(metrics.confusion_matrix(expected,predicted))"
      ],
      "metadata": {
        "colab": {
          "base_uri": "https://localhost:8080/"
        },
        "id": "qqI98vq4qwfn",
        "outputId": "24d19204-55ff-4a84-bf16-8a92ca096421"
      },
      "execution_count": 59,
      "outputs": [
        {
          "output_type": "stream",
          "name": "stdout",
          "text": [
            "              precision    recall  f1-score   support\n",
            "\n",
            "          -1       0.82      0.93      0.87        55\n",
            "           1       0.92      0.81      0.86        57\n",
            "\n",
            "    accuracy                           0.87       112\n",
            "   macro avg       0.87      0.87      0.87       112\n",
            "weighted avg       0.87      0.87      0.87       112\n",
            "\n"
          ]
        }
      ]
    },
    {
      "cell_type": "code",
      "source": [
        "from sklearn.metrics import f1_score\n",
        "f1_score(expected, predicted, average='macro')"
      ],
      "metadata": {
        "colab": {
          "base_uri": "https://localhost:8080/"
        },
        "id": "nlY5duWRrYdJ",
        "outputId": "5e1d5db2-fd2b-4d7e-f423-aa57b126466c"
      },
      "execution_count": 60,
      "outputs": [
        {
          "output_type": "execute_result",
          "data": {
            "text/plain": [
              "0.8658039779535107"
            ]
          },
          "metadata": {},
          "execution_count": 60
        }
      ]
    }
  ]
}